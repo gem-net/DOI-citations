{
 "cells": [
  {
   "cell_type": "code",
   "execution_count": 3,
   "metadata": {},
   "outputs": [
    {
     "name": "stdout",
     "output_type": "stream",
     "text": [
      "CC(=O)Oc1cccc(C(C)C(=O)O)c1\n"
     ]
    },
    {
     "data": {
      "image/png": "[encoded data removed]",
      "text/plain": [
       "<rdkit.Chem.rdchem.Mol at 0x10a2cb990>"
      ]
     },
     "execution_count": 3,
     "metadata": {},
     "output_type": "execute_result"
    }
   ],
   "source": [
    "from rdkit import Chem\n",
    "\n",
    "mol = Chem.MolFromSmiles('CC(=O)OC1=CC=CC(=C1)C(C)C(=O)O')\n",
    "print(Chem.MolToSmiles(mol))\n",
    "mol"
   ]
  },
  {
   "cell_type": "code",
   "execution_count": 27,
   "metadata": {},
   "outputs": [
    {
     "data": {
      "text/plain": [
       "'[Cl-].BrC(C(=O)SCC1=CC=C(C(=O)NCC[NH3+])C=C1)(C)C'"
      ]
     },
     "execution_count": 27,
     "metadata": {},
     "output_type": "execute_result"
    }
   ],
   "source": [
    "import requests\n",
    "from functools import cache\n",
    "\n",
    "from urllib.request import urlopen\n",
    "from urllib.parse import quote\n",
    "import timeit \n",
    "\n",
    "from py2opsin import py2opsin\n",
    "import warnings\n",
    "\n",
    "@cache\n",
    "def iupac_to_smiles1(iupac_name):\n",
    "    with warnings.catch_warnings():\n",
    "        warnings.filterwarnings(\"ignore\", category=RuntimeWarning, module='py2opsin')\n",
    "        \n",
    "        if type(iupac_name) != str:\n",
    "            return None\n",
    "        \n",
    "        # replace all whitespace with dashes, double dashes with single dashes\n",
    "        iupac_name = iupac_name.replace(' ', '-').replace('\\n', '-').replace('\\t', '-') \n",
    "        iupac_name = iupac_name.strip('-')\n",
    "        while '--' in iupac_name:\n",
    "            iupac_name = iupac_name.replace('--', '-')\n",
    "\n",
    "        # corner case 1: remove stereochemistry\n",
    "        iupac_name = iupac_name.lstrip('(R/S)-').lstrip('(S/R)-')\n",
    "\n",
    "        smiles_string = py2opsin(\n",
    "            chemical_name=iupac_name,\n",
    "            output_format=\"SMILES\"\n",
    "        )\n",
    "\n",
    "        if not smiles_string:\n",
    "            return None\n",
    "        return smiles_string\n",
    "\n",
    "@cache\n",
    "def iupac_to_smiles2(iupac_name):\n",
    "    '''\n",
    "    This one is significantly better\n",
    "    '''\n",
    "    if type(iupac_name) != str:\n",
    "        return None\n",
    "    iupac_name = iupac_name.replace(' ', '-')\n",
    "    iupac_name = iupac_name.strip('-')\n",
    "    iupac_name = iupac_name.lstrip('(R/S)-').lstrip('(S/R)-')\n",
    "    url = f\"https://opsin.ch.cam.ac.uk/opsin/{iupac_name}.smi\"\n",
    "    response = requests.get(url)\n",
    "    if response.status_code == 200:\n",
    "        return response.text.strip()\n",
    "    return None\n",
    "\n",
    "iupac_name = '''2-(4-(((2-Bromo-2-methylpropanoyl)thio)methyl)benzamido)\n",
    "ethan-1-aminium chloride'''\n",
    "smiles = iupac_to_smiles1(iupac_name)\n",
    "smiles"
   ]
  },
  {
   "cell_type": "code",
   "execution_count": 28,
   "metadata": {},
   "outputs": [],
   "source": [
    "import pandas as pd\n",
    "\n",
    "data = pd.read_csv(r'../SURP-database-reformatted - Flexizymes ready for database.csv', skiprows=1)\n",
    "\n",
    "SMILES = []\n",
    "for iupac in data['Monomer Names (required)']:\n",
    "    method1, method2 = iupac_to_smiles1(iupac), iupac_to_smiles2(iupac)\n",
    "    if method1 or method2: \n",
    "        SMILES.append({\n",
    "            'IUPAC': iupac,\n",
    "            'SMILES1': method1,\n",
    "            'SMILES2': method2\n",
    "        })\n",
    "        "
   ]
  },
  {
   "cell_type": "code",
   "execution_count": 22,
   "metadata": {},
   "outputs": [],
   "source": [
    "# put into new csv\n",
    "SMILES_df = pd.DataFrame(SMILES)\n",
    "SMILES_df.to_csv('IUPAC_TO_SMILES.csv')"
   ]
  },
  {
   "cell_type": "code",
   "execution_count": null,
   "metadata": {},
   "outputs": [],
   "source": []
  }
 ],
 "metadata": {
  "kernelspec": {
   "display_name": "Python 3",
   "language": "python",
   "name": "python3"
  },
  "language_info": {
   "codemirror_mode": {
    "name": "ipython",
    "version": 3
   },
   "file_extension": ".py",
   "mimetype": "text/x-python",
   "name": "python",
   "nbconvert_exporter": "python",
   "pygments_lexer": "ipython3",
   "version": "3.11.4"
  },
  "orig_nbformat": 4
 },
 "nbformat": 4,
 "nbformat_minor": 2
}
