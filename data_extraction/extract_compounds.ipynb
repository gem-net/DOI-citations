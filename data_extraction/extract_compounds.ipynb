{
 "cells": [
  {
   "cell_type": "code",
   "execution_count": null,
   "metadata": {},
   "outputs": [],
   "source": [
    "import PyPDF2\n",
    "\n",
    "pdf_path = 'Example paper 1.pdf'\n",
    "\n",
    "pdfFileObj = open('Example paper 1.pdf', 'rb')\n",
    "pdfReader = PyPDF2.PdfFileReader(pdfFileObj)\n",
    "pdfReader.numPages"
   ]
  },
  {
   "cell_type": "code",
   "execution_count": null,
   "metadata": {},
   "outputs": [],
   "source": [
    "import re\n",
    "from collections import Counter\n",
    "\n",
    "\n",
    "def extract_compounds(text, page=-1):\n",
    "    pattern = r'(([\\w()-]+)\\s*-\\s*([\\w-]+)-\\d-\\([\\w\\[\\](),\\s-]+\\)([\\w\\s]+)\\((\\d+)\\))'\n",
    "    matches = re.findall(pattern, text)\n",
    "    \n",
    "    # Store the results\n",
    "    extracted_data = []\n",
    "    for match in matches:\n",
    "        compound = {\n",
    "            'Full Name': match[0].strip(),\n",
    "            'Prefix': match[1],\n",
    "            'Core': match[2],\n",
    "            'Suffix': match[3],\n",
    "            'Compound Number': match[4],\n",
    "            'Page': page + 1\n",
    "        }\n",
    "        extracted_data.append(compound)\n",
    "    \n",
    "    return extracted_data\n",
    "\n",
    "compounds = []\n",
    "for page in range(pdfReader.numPages):\n",
    "    pageObj = pdfReader.getPage(page)\n",
    "    text = pageObj.extractText()\n",
    "    compound = extract_compounds(text, page)\n",
    "    compounds.extend(compound)\n",
    "\n",
    "counter = Counter([compound['Compound Number'] for compound in compounds])\n",
    "for k in sorted(counter.keys(), key = lambda x: int(x)):\n",
    "    # print(k, counter[k])\n",
    "    pass\n",
    "\n",
    "compounds"
   ]
  }
 ],
 "metadata": {
  "language_info": {
   "name": "python"
  },
  "orig_nbformat": 4
 },
 "nbformat": 4,
 "nbformat_minor": 2
}
