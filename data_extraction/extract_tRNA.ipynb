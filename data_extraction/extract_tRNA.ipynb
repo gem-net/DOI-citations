{
 "cells": [
  {
   "cell_type": "code",
   "execution_count": 46,
   "metadata": {},
   "outputs": [
    {
     "data": {
      "text/plain": [
       "117"
      ]
     },
     "execution_count": 46,
     "metadata": {},
     "output_type": "execute_result"
    }
   ],
   "source": [
    "import PyPDF2\n",
    "\n",
    "pdf_path = r'../Example paper 1.pdf'\n",
    "\n",
    "pdfFileObj = open(pdf_path, 'rb')\n",
    "pdfReader = PyPDF2.PdfFileReader(pdfFileObj)\n",
    "pdfReader.numPages"
   ]
  },
  {
   "cell_type": "code",
   "execution_count": 47,
   "metadata": {},
   "outputs": [
    {
     "data": {
      "text/plain": [
       "[{'Full Name': 'synthetase–tRNA\\nPyl\\nCUApair',\n",
       "  'Prefix': 'synthetase–',\n",
       "  'tRNA Type': 'tRNA',\n",
       "  'Part 1': 'Pyl',\n",
       "  'Part 2': 'CUA',\n",
       "  'Page': 1},\n",
       " {'Full Name': 'synthetase–tRNA\\nTyr\\nCUApair',\n",
       "  'Prefix': 'synthetase–',\n",
       "  'tRNA Type': 'tRNA',\n",
       "  'Part 1': 'Tyr',\n",
       "  'Part 2': 'CUA',\n",
       "  'Page': 1},\n",
       " {'Full Name': 'PylRS–tRNA\\nPyl\\nCUA',\n",
       "  'Prefix': 'PylRS–',\n",
       "  'tRNA Type': 'tRNA',\n",
       "  'Part 1': 'Pyl',\n",
       "  'Part 2': 'CUA',\n",
       "  'Page': 1},\n",
       " {'Full Name': 'tRNA\\nPyl\\nCUA',\n",
       "  'Prefix': None,\n",
       "  'tRNA Type': 'tRNA',\n",
       "  'Part 1': 'Pyl',\n",
       "  'Part 2': 'CUA',\n",
       "  'Page': 1},\n",
       " {'Full Name': 'tRNA\\nPyl\\nCUA',\n",
       "  'Prefix': None,\n",
       "  'tRNA Type': 'tRNA',\n",
       "  'Part 1': 'Pyl',\n",
       "  'Part 2': 'CUA',\n",
       "  'Page': 1},\n",
       " {'Full Name': 'tRNA\\nPyl\\nCUApair',\n",
       "  'Prefix': None,\n",
       "  'tRNA Type': 'tRNA',\n",
       "  'Part 1': 'Pyl',\n",
       "  'Part 2': 'CUA',\n",
       "  'Page': 2}]"
      ]
     },
     "execution_count": 47,
     "metadata": {},
     "output_type": "execute_result"
    }
   ],
   "source": [
    "import re\n",
    "\n",
    "def extract_tRNA(text, page=-1):\n",
    "    pattern = r'(\\w+[-–])?(tRNA\\n\\w+\\n\\w+)'\n",
    "    matches = re.findall(pattern, text)\n",
    "    \n",
    "    extracted_data = []\n",
    "    for match in matches:\n",
    "        prefix, tRNA_data = match\n",
    "        prefix = prefix.strip('tRNA') # clean up prefix\n",
    "        tRNA_parts = tRNA_data.split('\\n')\n",
    "        \n",
    "        if len(tRNA_parts) == 3:\n",
    "            tRNA_type, part1, part2 = tRNA_parts\n",
    "            part2 = part2.strip('pair') # clean up part2\n",
    "        else:\n",
    "            continue \n",
    "        \n",
    "        extracted_data.append({\n",
    "            'Full Name': prefix + tRNA_data if prefix else tRNA_data,\n",
    "            'Prefix': prefix if prefix else None,\n",
    "            'tRNA Type': tRNA_type,\n",
    "            'Part 1': part1,\n",
    "            'Part 2': part2,\n",
    "            'Page': page + 1\n",
    "        })\n",
    "    \n",
    "    return extracted_data\n",
    "\n",
    "tRNA = []\n",
    "for page in range(pdfReader.numPages):\n",
    "    pageObj = pdfReader.getPage(page)\n",
    "    text = pageObj.extractText()\n",
    "    out = extract_tRNA(text, page)\n",
    "    tRNA.extend(out)\n",
    "\n",
    "tRNA\n",
    "\n"
   ]
  },
  {
   "cell_type": "code",
   "execution_count": 48,
   "metadata": {},
   "outputs": [],
   "source": [
    "import pandas as pd\n",
    "\n",
    "tRNA_df = pd.DataFrame(tRNA)\n",
    "tRNA_df.to_csv('tRNA.csv')"
   ]
  },
  {
   "cell_type": "code",
   "execution_count": null,
   "metadata": {},
   "outputs": [],
   "source": []
  }
 ],
 "metadata": {
  "kernelspec": {
   "display_name": "Python 3",
   "language": "python",
   "name": "python3"
  },
  "language_info": {
   "codemirror_mode": {
    "name": "ipython",
    "version": 3
   },
   "file_extension": ".py",
   "mimetype": "text/x-python",
   "name": "python",
   "nbconvert_exporter": "python",
   "pygments_lexer": "ipython3",
   "version": "3.11.4"
  },
  "orig_nbformat": 4
 },
 "nbformat": 4,
 "nbformat_minor": 2
}
