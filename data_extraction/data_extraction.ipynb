{
 "cells": [
  {
   "cell_type": "code",
   "execution_count": 1,
   "metadata": {},
   "outputs": [
    {
     "data": {
      "text/plain": [
       "117"
      ]
     },
     "execution_count": 1,
     "metadata": {},
     "output_type": "execute_result"
    }
   ],
   "source": [
    "import PyPDF2\n",
    "\n",
    "pdf_path = r'../Example paper 1.pdf'\n",
    "\n",
    "pdfFileObj = open(pdf_path, 'rb')\n",
    "pdfReader = PyPDF2.PdfFileReader(pdfFileObj)\n",
    "pdfReader.numPages"
   ]
  },
  {
   "cell_type": "code",
   "execution_count": 4,
   "metadata": {},
   "outputs": [
    {
     "name": "stdout",
     "output_type": "stream",
     "text": [
      "©The 2014 Chem . Commun. , 2014 , 50 , 2673 -- 2675 | 2673 : Chem . Commun. , 2014 , 50,2 6 7 3The non-canonical acids † Alfred Tuley , Yane-Shih , Xinqiang , ‡Yadagiri Kurra , Yohannes H. Rezenom Wenshe R. Liu * non-canonical acids synthesized using pyrrolysyl-tRNAsynthetase–tRNA Pyl CUApair . observed effici- encies . non-canonical contains azidethat site-selective labeling . Site-selective non-canonical acids ( NCAAs ) eﬃci ent proteins functionalities ; applicat ions studies protein–protein , biotechnological applications enzymes manufacturing . 1–5Two aminoacyl- tRNA synthetase–tRNA CUApairs adapted NCAAs codons . Oneis tyrosyl-tRN synthetase–tRNA Tyr CUApair Methanocaldococcus jannaschii .6–8The pyrrolysyl-tRNA synthetase ( PylRS ) –tRNAPyl CUApair occurs methanogen ic archaea.9–12Due broad-spectrum cells easilyengineered NCAAs , including naturalamino acids posttranslational modifications , PylRS–tRNA Pyl CUA has captivated researchers years.13–28 contributions NCAA has PylRS mutants incorporating derivatives , pyrrolysine , ofPylRS . 29–31More , rec ently , N346A/C348A PylRS ( PylRS ( N346A/C348A ) ) iscapable incorporating para-a dt meta-substituted derivatives codons coordination tRNA Pyl CUA.30,31This obviates discovering foreach NCAA . PylRS ( N346A/C348A ) has broader reported . studies PylRS ( N346A/C348A ) .30Removal N346 dismisses prevents aromaticside C348 yields acavernous para-o rmeta-substituted described . terestingly , phenyl- derivatives para-substituents ineﬀective substrates PylRS ( 346A/C348A ) , isomers meta-substituents eﬃcient substrates PylRS ( N346A/ C348A ) codons . 30,31In words , derivatives para-substituents chains . Uponfurther , appears theactive PylRS ( N346A/C348A ) exists . Encouraged , PylRS ( N346A/C348A ) phenyl-alanine derivatives erically chains . began incorpora- tion diﬀerent para-substituted derivatives ( 1–4 . 1A ) , requirement.Synthesis derivatives followed presented reports N346A/C348A , 30with NCAA 1 , synthesized using ( ESI † ) . NCAAs PylRS ( N346A/C348A ) . E. BL21 ( DE3 ) harbours plasmids , pEVOL-pylT-PylRSN346A/C348A pET-pylT-sfGFP2TAG , . pEVOL-pylT-PylRSN346A/C348A contains coding PylRS ( N346A/C348A ) tRNA Pyl CUA ; pET-pylT-sfGFP2TAG carries tRNAPylCUAcoding non-sequence-optimized superfolde ( sfGFP ) S2 ( sfGFP2TAG ) . cells para-substituted derivatives PylRS ( N346A/C348A ) .30Growth mini- supplemented 1 mM IPTG 0.2 % arabinosewithout NCAA afforded full-lengthsfGFP ( o0.3 mg /C01 ) . 1–4at 2 mM mediumDepartment , Texas & , , TX 77843 , USA . E-mail : wliu @ chem.tamu.edu†Electronic ( ESI ) : , expres- , labeling , . DOI : 10.1039/c3cc49068h ‡Current : Fujian , Chinese Sciences , Fuzhou , Fujian 350002 , China.Received 27th November 2013 , 9th January 2014 DOI : 10.1039/c3cc49068h www.rsc.org/chemcommChemComm Published 17 January 2014 . Downloaded California - Berkeley 9/18/2023 9:55:35 PM . Online | Issue2674 |Chem . Commun. , 2014 , 50 , 2673 -- 2675 ©The 2014all promoted full-length sfGFP ( . 1A ) . levels 1–3 para-propargyloxy- ( 7.8 mg L/C01 ) ,30and electrospray purifi ed sfGFP variants mole- cular weights values corre-sponding full-length proteins ith ( . 1B ) . results obtained 1–4demonstrate PylRS ( N346A/ C348A ) tolerates substrates andbulky substituents . , ESI-MS 3also , observed pre-viously . remaining eaks compounds corre- spond adducts ESI-MS. , resultsobtained 1demonstrated andpara positions occupied levels . results , endeavours , phenyl-alanine derivatives long-chain meta-substituents substrates PylRS ( N346A/C348A ) . , meta-alkoxy meta-acyl phenylalanines lengths carbons synthesized . derivatives becausethe NCAAs meta-methoxy-phenylalanine meta-acetyl- strates PylRS ( N346A/C348A ) . meta-alkoxy-phenylalanines , published protected meta-tyrosine , su bjected halides derivatives . deprotection yielded freeamino acids salts . meta-acyl- phenylalanines . Grignards toas meta-tolunitrile , afforded acylbenzenes workup . diethylacetamidomalonate afforded protected meta-acyl-phenyl- alanines deprotected 6 HCl aminoacids . routes ESI . † NCAAs , eﬃcacies codons using thePylRS ( N346A/C48A ) –tRNA Pyl CUApair . E. cells compounds harboured ids , pEVOL-pylT-PylRSN346A/ C348A -pylT-sfGFPS2TAG0 . pET-pylT-sfGFPS2TAG0con- tains sequence-optimized sfGFP atits S2 ( sfGFPS2TAG 0 ) . sfGFP2TAG pET-pylT-sfGFP2TAG , sfGFPS2TAG0has . cellin NCAA yielded levelof full-length sfGFP . , NCAAs 6–10 ( 2 mM ) promoted sfGFP dN ( . 2A ) . derivatives meta-substituents 5,6–10 levels . weights purified sfGFP variantsdetermined ESI-MS valuescorresponding designated NCAA S2 firstmethionine hydrolysed ( . 2B ) . methionineis . signalsc nb eo , tt yl yc dt oc nm adducts ; expected masses . Com- pounds 8,9 , 10have ; 2 mM , 10was observed 12 . sfGFP levels 8,9and10may co mpounds ; , observed 8and9 . sfGFP for9was , purified sfGFP ESI-MS matched sfGFP 9 S2 , indicatin gt wc 9was 9at . , derivatives 12–15 2 mM promoted sfGFP yields , alkyllengths yields tothe 6–10 , sfGFP levels 12–15 11 ( . 3A ) . NCAAs , observed . ESI-MS purified sfGFP variants fidelities 12–15 S2 . . 1 ( ) Structures 1–4 site-specific sfGFP S2 . ( ) Deconvoluted ESI-MS sfGFP variantsincorporated 1–4 . values 27 832 1 , 27 873 for2,2 78 8 6D af 3 , 27 856 4 . signals adducts ( i.e.Li , , ) . . 2 ( ) Structures 5–10 site-specific sfGFP S2 . ( ) Deconvoluted ESI-MS sfGFP variants incorpo- 5–10 . values 27 758 5 , 27 772 6 , 27 786 7,2 7 8 0 0D af 8,2 7 8 1 4D af 9 , d2 7 8 2 8D af 10.Communication ChemComm Published 17 January 2014 . Downloaded California - Berkeley 9/18/2023 9:55:35 PM . OnlineThis ©The 2014 Chem . Commun. , 2014 , 50 , 2673 -- 2675 | 2675Among NCAAs PylRS ( N346A/ C348A ) , 2has alkyne32and12–15 reacts . functionaliti site-selective labeling proteins 2and12–15 .S sfGFP 11with demon- strated previously,31we labeling 2using diarylcyclooctyne D1in ( . 4 ) . D1contains undergoes anazide . 33Incubating sfGFP 2with D1overnight fluorescently labeled ; , sfGFP 3did fluorescently labeled . dicates incorpo- 2can site-specifically lp op sf ral ev fs . , NCAAs E. using PylRS ( N346A/C348A ) –tRNAPyl CUApair . , findings , PylRS ( N346A/C348A ) . Inve stigations deter- aspects PylRS ( N346A/C348A ) thatlead . has greatimplications theprotein . panded encoded NCAApool E. libraries moieties , pursuing . supported Welch ( A-1715 ) , ( CHEM-1148684 ) , ealth ( 1R01CA161158 ) . Notes references 1 W. R. Liu , Y. S. W. , Mol . Biosyst . , 2011 , 7 , 38–47 . 2 A. Gautier , A. Deiters J. W. , . . Chem . . , 2011 , 133 , 2124–2127 . 3 M. Zhang , S. , . , J. Liu , Y. , X. , X. , Z. P. R. Chen , . Chem . Biol . , 2011 , 7 , 671–677 . 4 Y. , G. Ghirlanda , N. Vaidehi , J. Kua , D. T. Mainz , I. W. , W. F. DeGrado D. A. Tirrell , , 2001 , 40 , 2790–2796 . 5 C. C. Liu P. G. Schultz , Annu . . Biochem . , 2010 , 79 , 413–444 . 6 L. , A. , B. Herberich P. G. Schultz , , 2001 , 292 , 498–500 . 7 J. Xie P. G. Schultz , . . Mol . Biol . , 2006 , 7 , 775–782 . 8 J. W. , S. W. Santoro , . B. , D. S. , L. P. G. Schultz , . . Chem . . , 2002 , 124 , 9026–9027 . 9 G. Srinivasan , C. M. James . A. Krzycki , , 2002 , 296 , 1459–1462 . 10 S. K. , R. C. Larue , A. Mahapatra , D. G. Longstaﬀ , E. , .Z , .T .K , .B .G - , .K .C dJ .A .K , , 2004 , 431 , 333–335 . 11 H. Neumann , S. Y. Peak-Chew J. W. , . Chem . Biol . , 2008 , 4 , 232–234 . 12 W. , Y. Huang , Z. , W. K. Russell , P. J. Pai , D. H. Russell W. R. Liu , Angew . Chem. , Int . Ed . , 2010 , 49 , 3211–3214 . 13 S. Greiss J. W. , . . Chem . . , 2011 , 133 , 14196–14199 . 14 S. M. Hancock , R. Uprety , A. Deiters J. W. , . . Chem . Soc. , 2010 , 132 , 14819–14824 . 15 T. Mukai , T. Kobayashi , N. Hino , T. Yanagisawa , K. Sakamoto S. Yokoyama , Biochem . Biophys . Res . Commun . , 2008 , 371 , 818–822 . 16 T. Yanagisawa , R. Ishii , R. Fukunaga , T. Kobayashi , K. Sakamoto S. Yokoyama , Chem . Biol . , 2008 , 15 , 1187–1197 . 17 A. R. Parrish , . , Z. Xiang , . , Z. Shen , S. P. Briggs , A. Dillin L. , ACS Chem . Biol . , 2012 , 7 , 1292–1302 . 18 P. R. Chen , D. Groﬀ , J. Guo , W. Ou , S. Cellitti , B. H. Geierstanger P. G. Schultz , Angew . Chem. , Int . Ed . , 2009 , 48 , 4052–4055 . 19 C. J. Chou , R. Uprety , L. Davis , J. W. A. Deiters , Chem . Sci . , 2011 , 2 , 480–483 . 2 0 .S .W , .W , .W , .H , .W , .K .R , .J .P , Y. N. Moe , D. H. Russell W. R. Liu , Mol . Biosyst . , 2010 , 6 , 1557–1560 . 21 Y. J. , B. Wu , J. E. Raymond , Y. Zeng , X. , K. L. Wooley W. R. Liu , ACS Chem . Biol . , 2013 , 8 , 1664–1670 . 22 T. Fekner , X. , M. M. M. K. Chan , Angew . Chem. , Int . Ed . , 2009 , 48 , 1633–1635 . 23 X. , T. Fekner , J. J. Ottesen M. K. Chan , Angew . Chem. , Int . Ed . , 2009 , 48 , 9184–9187 . 24 T. Umehara , J. , S. , L. T. Guo , D. Soll H. S. , FEBS Lett. , 2012 , 586 , 729–733 . 25 C. R. Polycarpo , S. , A. Berube , J. L. , D. Soll A. Ambrogelly , FEBS Lett . , 2006 , 580 , 6695–6700 . 26 T. , S. Milles , C. Koehler , C. Schultz E. A. Lemke , Angew . Chem. , Int . Ed . , 2011 , 50 , 3878–3881 . 27 T. , S. Milles , C. Koehler , J. Szymanski , R. Mueller , M. Wiessler , C. Schultz E. A. Lemke , Angew . Chem. , Int . Ed . , 2012 , 51 , 4166–4170 . 28 D. P. Nguyen , H. Lusic , H. Neumann , P. B. Kapadnis , A. Deiters J. W. , . . Chem . . , 2009 , 131 , 8720–8721 . 29 Y. S. , W. K. Russell , Z. , W. , L. E. , P. J. Pai , D. H. Russell W. R. Liu , Mol . Biosyst . , 2011 , 7 , 714–717 . 30 Y. S. , X. , A. L. Wallace , B. Wu W. R. Liu , . . Chem . . , 2012 , 134 , 2950–2953 . 31 Y. S. , X. , H. Y. Chen , B. Wu , Z. U. , C. Hilty W. R. Liu , ACS Chem . Biol . , 2013 , 8 , 405–415 . 32 H. C. Kolb , M. G. Finn K. B. Sharpless , Angew . Chem. , Int . Ed . , 2001 , 40 , 2004–2021 . 33 J. C. Jewett , E. M. Sletten C. R. Bertozzi , . . Chem . . , 2010 , 132 , 3688–3690 . . 3 ( ) Structures 11–15 site-specific sfGFP S2 . ( ) Deconvoluted ESI-MS sfGFP variants 11–15 . values 27 770 11 , 27 784 12 , 27 798 13 , 27 812 14 , 27 826 15 . Compounds 13and14show signals N-terminal sfGFP . 15has signals attributed adducts . . 4 Labeling sfGFP 2 ( sfGFP- 2 ) sfGFP with3 ( sfGFP- 3 ) hd D1 . shows Coomassie stained SDS-PAGE shows samegel UV stained Coomassie blue.ChemComm Published 17 January 2014 . Downloaded California - Berkeley 9/18/2023 9:55:35 PM . OnlineS1 -canonical acids Alfred Tuley , Yane-Shih , Xinqiang , Yadagiri Kurra , Yohannes Rezenom , Wenshe Liu , Texas & , , TX 77843 E-mail : wliu @ chem.tamu.edu ( ESI ) Communications © 2014S2 1 . Superfolder ··················································S3 2 . Labeling ········································································································S3 3 . ESI-MS Proteins ··········································································S3 4 . ······································································································S3 5. sfGFP Sequence···························································································S12 6 . NMR Data················································································································S13 ( ESI ) Communications © 2014S3 1 . Superfolder constructs compounds 1-4 reports.1,2 compounds 5-15 , BL21 ( DE3 ) E. cells containing pEVOL-PylT-pylRS- PylRSN346A/C348A ( Cmr ) pET-PylT-sfGFP-S2TAG ’ ( Ampr ) vectors 500 mL LB ampicillin ( 100 µg/mL ) ( 34 µg/mL ) 600 reached 1.0-1.3 , cells 4,000 r.p.m . 20 , resuspended 30 mL 2O . resuspended cells 5 mL aliquots 45 mL ( 33.7 mM 2HPO 4 , 22 mM KH 2PO 4 , 8.6 mM NaCl , 9.4 mM NH 4Cl , 1 mM MgSO 4 , 0.3 mM CaCl 2 , 1 % ) supplemented 2 mM non-canonical ( ) , 1 mM IPTG , 0.2 % , allowed 12 h. cells 4,000 r.p.m . 20 , resuspended ( 50 mM NaH 2PO 4 , 300 mM NaCl , pH 8 ) lysed sonication . centrifuged 10,000 r.p.m . 1 , treated 10 mM . , incubated Ni2+-NTA 1 4 ºC . containing 10 mM ( 3x ) 20 mM ( 3x ) , eluted ( 50 mM NaH 2PO 4 , 300 mM NaCl , 500 mM , pH 8 ) . dialyzed 10 mM Tris , , proteins using Amicon Ultracel-10k units . proteins 15 % SDS-PAGE ESI-MS . Yields using BCA ( ) . 2. sfGFP-2 Labeling 16 µl 1X buffered ( PBS ) 2 µl sfGFP -2 ( 3 mg/mL , 1 µM ) 2 µl Dibenzylcyclooctyne ( DBCO ) ( 25 mM , DMSO ) 3 allowed . 180 µl methanol -20 ºC 1 h. , centrifuged 5 , 14,000 r.p.m . 100 % methanol . , resuspended 20 µl 2O SDS-PAGE . 4 µl sfGFP -3 ( 5 mg/mL , 0.9 µM ) 14 µl PBS , followed 2 µl DBCO . 3 . ESI-MS Proteins Nanoelectrospray performed using Biosystems QSTAR Pulsar ( , , ) equipped nanoelectrospray . flowed 700 nL/min 50 µm -silica . Electrospray held 2100 V. 4 . Reactions using -dried , . Reagents purchased . NMR obtained Inova 300 Mercury 300 MHz instruments . ( ESI ) Communications © 2014S4 4.1 2-amino-3- ( [ ] [ 1,3 ] dioxol-5-yl ) propanoic ( 1 ) 16 ( 5 , 8.06 mmol ) MeCN ( 25 mL ) Cs 2CO 3 ( 3.93g 12.09 mmol ) , followed CH 2Cl2 ( 5.21 mL , 8.06 mmol ) . 4 hours . , , 17 40 % ( 2.12 ) .4 1HNMR ( 300 MHz , CDCl 3 ) δ 6.71 ( , 3H ) , 5.93 ( , 2H ) , 2.27 ( , 3H ) . 17 ( 2.0 , 14.7 mmol ) dissolved CCl 4 ( 15 mL ) , followed NBS ( 3.12 , 17.62 mmol ) AIBN ( 0.337 , 2.05 mmol ) . heated 12 . , 18,5 . 18 ( 3.5 , 16.27 mmol ) ( 15 mL ) 2-acetamidomalonate ( 3.88 , 17.88 mmol ) , 2CO 3 ( 4.49 , 32.53 mmol ) KI ( 1.0 , 15.38 mmol ) . heated 12 , cooled . filtered , , purified hexanes/ethyl ( 3:1 v/v ) eluent 19 ( 60 % , 3.42 ) . 1HNMR ( 300 MHz , CDCl 3 ) δ 6.69 ( , = 8.2Hz , 1 ) , 6.57 ( , = 7.9 Hz , 1 ) , 6.47 ( , 1H ) , 5.92 ( , 2H ) , 4.30-4.22 ( , 4H ) , 3.56 ( , 2H ) , 2.04 ( , 3H ) , 1.32-1.23 ( , 6H ) . 19 ( 3.0 , 8.54 mmol ) 3 HCl ( 91.16 mL , 32 eq . ) heated 16 . evaporated . Et 2O ( 10 mL × 3 ) 1 ( 68 % , 1.42 ) . 1H NMR ( 300 MHz , CD 3OD ) δ 6.78-6.66 ( , 3H ) , 5.85 ( , 2H ) , 4.14 ( , = 6.6 Hz , 1 ) , 3.09 ( ABq , = 15.3 , 6.6 Hz , 2 ) . 13C NMR ( 75 MHz , CD 3OD ) δ 169.8 , 148.1 , 147.3 , 127.6 , 122.6 , 109.1 , 108.2 , 101.1 , 53.9 , 39.5 . ( ESI ) Communications © 2014S5 4.2 4.2.1 ( ) -2-amino-3- ( 4- ( cyclopentylmethoxy ) ) propanoic ( 3 ) N-Boc-o-methyl- L-tyrosine ( 20 ) ( 1.3 , 4.4 mmol ) , cyclopentylmethanol ( 0.57 mL , 5.28 mmol ) , ( 1.73 , 6.6 mmol ) , evacuated replaced . THF ( 10 mL ) cooled 0 ºC , ( 1.3 mL , 6.6 mmol ) stirred . , purified ( , 25 % 50 % acetate/hexanes ) 21 78 % ( 1.3 ) . deprotected using described ; 1 5 mL 1 NaOH/THF hours , followed Boc deprotection 5 mL 4 HCl/dioxane 3 97 % ( 898 mg ) , steps . 1H NMR ( 300 MHz , CD 3OD ) δ 7.16 ( , = 8.4 Hz , 2 ) , 6.87 ( , = 8.7 , 6.9 Hz , 2 ) , 4.15 ( , = 5.4 Hz , 1 ) , 3.80 ( , = 6.9 Hz , 2 ) , 3.14 ( dd , = 7.8 , 5.4 Hz , 2 ) , 2.31 ( , 1 ) , 1.82 ( , 2 ) , 1.61 ( , 4 ) , 1.36 ( , 2 ) . 13C NMR ( 75 MHz , CD 3OD ) δ 169.9 , 158.9 , 130.0 , 125.6 , 114.6 , 71.8 , 53.8 , 38.9 , 35.0 , 28.9 , 24.9 . 4.2.2 ( ) -2-amino-3- ( 4- ( but-2-yn-1-yloxy ) ) propanoic ( 4 ) N-Boc-o-methyl- L-tyrosine ( 1 , 3.39 mmol ) treated 3-bromo-2-propyne ( 0.36 mL , 4.06 mmol ) ( 1.4 , 10.2 mmo ) DMF ( ESI ) Communications © 2014S6 . 3 HCl . layers , , purified ( , 25 % 50 % acetate/hexanes ) protected 24 30 % ( 370 mg ) . Deprotection using 4 44 % ( 274 mg ) . 1H NMR ( 300 MHz , CD 3OD ) δ 7.10 ( , = 8.7 Hz , 2 ) , 6.83 ( , = 8.7 Hz , 2 ) , 4.53 ( , 2 ) , 4.08 ( , = 7.5 Hz , 1 ) , 3.02 ( dd , = 14.7 , 7.5 Hz , 2 ) , 1.68 ( , 3 ) . 13C NMR ( 75 MHz , CD 3OD ) δ 168.1 , 155.8 , 128.4 , 124.6 , 113.3 , 81.0 , 72.0 , 53.9 , 52.0 , 33.2 . 4.2.3 ( ) -2-amino-3- ( 4- ( 2-azidoethoxy ) ) propanoic ( 2 ) N-Boc-o-methyl- L-tyrosine 20 ( 1.8 , 6.09 mmol ) treated 26 ( 1.8 , 7.31 mmol ) ( 3.3 , 24.4 mmol ) DMF ( 10 mL ) heated 80 ºC . TLC , purified ( , 25 % 50 % acetate/hexanes ) 22 . Deprotection achieved using 20 mL 1 LiOH , followed 5 mL 4 HCl/Dioxane 2 ( 50 % , steps , 873 mg ) . 1H NMR ( 300 MHz , 2O ) δ 7.16 ( , = 8.4 Hz , 2 ) , 6.88 ( , = 8.4 Hz , 2 ) , 4.11 ( , 3 ) , 3.50 ( , 2 ) , 3.11 ( , = 7.2 , 6.9 , 5.4 Hz , 2 ) . 13C NMR ( 75 MHz , 2O ) δ 169.8 , 158.1 , 130.2 , 126.4 , 114.7 , 67.0 , 53.8 , 49.8 , 35.0 . 4.3 m-Tyrosine 4.3.1 2-acetamido-3- ( 3-ethoxyphenyl ) propanoate ( 28 ) m-tyrosine6 27 ( 1.5 , 6.32 mmol ) DMF ( 12.64 mL ) K2CO 3 ( 2.84 , 20.55 mmol ) , followed ( 0.76 mL , 9.48 mmol ) . ( ESI ) Communications © 2014S7 stirred 18 , quenched 16 mL 2O 79 mL . 40 mL 2O , sulfate . umn ( , 50 75 % acetate/hexanes ) afforded , ( 72 % , 1.2 ) . 1H NMR ( 300 MHz , CDCl 3 ) δ 7.17 ( , = 7.8 Hz , 1H ) , 6.76 ( dd , = 8.1 , 5.7 Hz , 1 ) , 6.66 ( , 2 ) , 6.04 ( , = 7.5 Hz , 1 ) , 4.85 ( dt , = 7.8 , 5.7 Hz , 1 ) , 3.97 ( , = 6.9 Hz , 2 ) , 3.71 ( , 3 ) , 3.07 ( , = 8.1 , 5.7 Hz , 2 ) , 1.97 ( , 3 ) , 1.38 ( , = 6.9 Hz , 3 ) . 13C NMR ( 75 MHz , CDCl 3 ) δ 172.2 , 169.7 , 159.2 , 137.3 , 129.6 , 121.5 , 115.6 , 113.2 , 63.4 , 53.1 , 52.4 , 37.9 , 23.3 , 14.9 . 4.3.2 2-acetamido-3- ( 3-propoxyphenyl ) propanoate ( 29 ) Synthesized m-tyrosine ( 1.5 , 6.32 mmol ) , DMF ( 12.64 mL ) , 2CO 3 ( 2.84g , 20.55 mmol ) , n-propyl ( 0.86 mL , 9.48 mmol ) , , ( 68 % , 1.2 ) . 1H NMR ( 300 MHz , CDCl 3 ) δ 7.18 ( , = 8.1 Hz , 1 ) , 6.79 ( , = 5.7 Hz , 1 ) , 6.66 ( , 2H ) , 5.88 ( , = 7.8 Hz , 1 ) , 4.87 ( dt , = 7.8 , 5.7 Hz , 1H ) , 3.88 ( , = 6.6 Hz , 2 ) , 3.74 ( , 3 ) , 3.09 ( , = 8.1 , 5.7 Hz , 2 ) , 1.99 ( , 3H ) , 1.79 ( sx , = 7.2 Hz , 2 ) , 1.03 ( , = 7.2 Hz , 3 ) . 13C NMR ( 75 MHz , CDCl 3 ) δ 172.1 , 169.7 , 159.3 , 137.3 , 129.6 , 121.4 , 115.6 , 113.2 , 69.5 , 53.1 , 52.4 , 37.9 , 23.2 , 22.6 , 10.6 . 4.3.3 2-acetamido-3- ( 3-butoxyphenyl ) propanoate ( 30 ) Synthesized m-tyrosine ( 1.0 , 4.21 mmol ) , DMF ( 8.42 mL ) , 2CO 3 ( 1.89g , 13.69 mmol ) , n-butyl ( 0.72 mL , 6.32 mmol ) , ( 65 % , 0.8 ) . 1H NMR ( 300 MHz , CDCl 3 ) δ 7.19 ( , = 7.8 Hz , 1 ) , 6.77 ( , = 7.2 Hz , 1 ) , 6.64 ( , 2 ) , 5.87 ( , = 6.9 Hz , 1 ) , 4.87 ( dt , = 7.8 , 5.4 Hz , 1 ) , 3.92 ( , = 6.6 Hz , 2 ) , 3.74 ( , 3 ) , 3.09 ( dd , = 8.1 , 5.7 Hz , 2 ) , 1.99 ( , 3 ) , 1.76 ( , = 6.9 , 6.6 , 6.3 Hz , 2 ) , 1.46 ( , 2 ) , 0.97 ( , = 7.2 Hz , 3 ) . 13C NMR ( 75 MHz , CDCl 3 ) δ 172.2 , 169.7 , 159.4 , 137.3 , 129.6 , 121.4 , 115.6 , 113.2 , 67.7 , 53.1 , 52.4 , 37.9 , 31.4 , 23.2 , 19.3 , 13.9 . 4.3.4 2-acetamido-3- ( 3- ( pentyloxy ) ) propanoate ( 31 ) Synthesized m-tyrosine ( 1.5 , 6.32 mmol ) , DMF ( 12.64 mL ) , 2CO 3 ( 2.84g , 20.55 mmol ) , n-pentyl ( 1.18 mL , 9.48 mmol ) , ( 72 % , 1.4 ) . 1H NMR ( 300 MHz , CDCl 3 ) δ 7.19 ( , = 8.1 Hz , 1 ) , 6.78 ( , 1 ) , 6.63 ( , 2H ) , 5.87 ( , = 6.9 Hz , 1 ) , 4.82 ( dt , = 7.8 , 5.7 Hz , 1H ) , 3.91 ( , = 6.6 Hz , 2 ) , 3.74 ( , 3 ) , 3.10 ( dq , = 8.1 , 6.0 Hz , 2 ) , 1.99 ( , 3H ) , 1.77 ( , = 7.2 , 6.9 , 6.6 Hz , 2 ) , 1.39 ( , 4 ) , 0.93 ( , = 7.2 Hz , 3 ) . 13C NMR ( 75 MHz , CDCl 3 ) δ 172.1 , 169.7 , 159.2 , 137.3 , 129.5 , 121.2 , 115.5 , 113.0 , 67.8 , 53.1 , 52.3 , 37.8 , 28.9 , 28.2 , 23.0 , 22.4 , 14.0 . 4.4.5 2-acetamido-3- ( 3- ( hexyloxy ) ) propanoate ( 32 ) Synthesized pr ocedure m-tyrosine ( 1.0 , 4.21 mmol ) , DMF ( 8.42 mL ) , 2CO 3 ( 1.89g , 13.69 mmol ) , 1-iodohexane ( 0.93 mL , 6.32 mmol ) , ( 44 % , 0.6 ) . 1H NMR ( 300 MHz , CDCl 3 ) δ 7.18 ( , = 8.1 Hz , 1 ) , 6.77 ( dd , = 8.1 , 5.7 Hz , 1 ) , 6.63 ( , 2H ) , 5.88 ( , = 7.2 Hz , 1 ) , 4.87 ( dt , = 7.8 , 5.7 Hz , 1H ) , 3.91 ( , = 6.6 Hz , 1 ) , 3.74 ( , 3 ) , 3.09 ( , ( ESI ) Communications © 2014S8 = 8.1 , 5.7 Hz , 2 ) , 1.99 ( , 3H ) , 1.77 ( , = 8.1 , 6.6 Hz , 2 ) , 1.44 ( , 4 ) , 1.33 ( , 4H ) , 0.91 ( , = 7.2 Hz , 3 ) . 13C NMR ( 75 MHz , CDCl 3 ) δ 172.2 , 169.7 , 159.4 , 137.3 , 129.6 , 121.4 , 115.6 , 113.2 , 68.0 , 53.1 , 52.4 , 37.9 , 31.7 , 29.3 , 25.8 , 23.3 , 22.7 , 14.1 . 4.5 meta-alkoxy Deprotection : 4.5.1 2-amino-3- ( 3-ethoxyphenyl ) propanoic ( 6 ) charged 28 ( 1.1 , 4.15 mmol ) treated 14.3 mL 2 HCl , heated 100 ºC , observed TLC . cooled vacuo . , resubjected conditions and/or -acyl signals 1H 13C NMR . obtained 45 % ( 463 mg ) . 1H NMR ( 300 MHz , D2O ) δ 7.35 ( , = 7.8 Hz , 1 ) , 6.93 ( , 3 ) , 4.31 ( , = 7.5 Hz 1 ) , 4.11 ( , = 6.9 Hz , 2 ) , 3.24 ( dq , = 14.7 , 5.7 Hz , 2 ) , 1.37 ( , = 6.9 Hz , 3 ) . 13C NMR ( 75 MHz , D2O ) δ 171.4 , 158.3 , 135.6 , 130.4 , 122.1 , 115.5 , 114.1 , 64.2 , 54.0 , 35.5 , 13.8 . 4.5.2 2-amino-3- ( 3-propoxyphenyl ) propanoic ( 7 ) using 29 ( 1.0 , 3.58 mmol ) 12.34 mL 2 HCl . Obtained 43 % ( 402 mg ) . 1H NMR ( 300 MHz , 2O ) δ 7.34 ( , = 7.5 Hz , 1 ) , 6.90 ( , 3 ) , 4.29 ( , = 5.4 Hz , 1 ) , 3.97 ( , = 6.6 Hz ) , 3.21 ( dd , = 14.7 , 5.7 Hz , 2 ) , 1.73 ( sx , = 7.5 , 7.2 , 6.9 , 6.6 Hz , 2 ) , 0.96 ( , = 7.5 , 3 ) . 13C NMR ( 75 MHz , 2O ) δ 171.3 , 158.5 , 135.5 , 130.3 , 122.0 , 115.5 , 114.1 , 70.1 , 53.9 , 35.4 , 21.7 , 9.5 . 4.5.3 2-amino-3- ( 3-butoxyphenyl ) propanoic ( 8 ) using 30 ( 0.8 , 2.73 mmol ) 9.4 mL 2 HCl 30 % ( 222 mg ) . 1H NMR ( 300 MHz , DMSO ) δ 8.53 ( , 2 ) , 7.21 ( , = 7.8 Hz , 1 ) , 6.89 ( , 1 ) , 6.82 ( , = 7.8 Hz , 2 ) , 4.14 ( , = 5.4 Hz , 1 ) , 3.94 ( , = 6.6 Hz , 2 ) , 3.12 ( , = 6.0 Hz , 2 ) , 1.69 ( , = 7.5 , 6.9 , 6.6 Hz , 2 ) , 1.45 ( sx , = 7.5 , 7.2 Hz , 2 ) , 0.93 ( , = 7.2 Hz , 3 ) . 13C NMR ( 75 MHz , DMSO ) δ 170.2 , 158.7 , 136.4 , 129.5 , 121.5 , 115.6 , 113.1 , 66.9 , 53.1 , 35.5 , 30.8 , 18.8 , 13.7 . 4.5.4 2-amino-3- ( 3- ( pentylox ) ) propanoic ( 9 ) using 31 ( 1.0 , 3.25 mmol ) 11.2 mL 2 HCl 61 % ( 570 mg ) . 1H NMR ( 300 MHz , DMSO ) δ 8.49 ( , 2 ) , 7.21 ( , = 7.5 Hz , 1 ) , 6.88 ( , 1 ) , 6.82 ( , = 8.1 Hz , 2 ) , 4.14 ( , = 6.0 Hz , 1 ) , 3.94 ( , = 6.6 Hz , 1 ) , 3.11 ( , = 6.0 Hz , 2 ) , 1.71 ( , = 6.9 , 6.6 , 6.3 Hz , 2 ) , 1.36 ( , 4 ) , 0.89 ( , = 6.6 Hz , 3 ) . 13C NMR ( 75 MHz , DMSO ) δ 170.2 , 158.7 , 136.4 , 129.5 , 121.6 , 115.6 , 113.1 , 67.2 , 53.0 , 35.6 , 28.4 , 27.7 , 21.9 , 13.9 . 4.5.5 2-amino-3- ( 3- ( hexyloxy ) ) propanoic ( 10 ) using 32 ( 0.6 , 1.87 mmol ) 6.44 mL 2 HCl und 65 % ( 367 ( ESI ) Communications © 2014S9 mg ) . 1H NMR ( 300 MHz , DMSO ) δ 8.48 ( , 3 ) , 7.21 ( , = 7.8 Hz , 1 ) , 6.88 ( , 1 ) , 6.82 ( , = 7.8 Hz , 2 ) , 4.13 ( , = 5.1 , 4.5 Hz , 1 ) , 3.93 ( , = 6.6 Hz , 2 ) , 3.10 ( , = 6.3 Hz , 2 ) , 1.69 ( , = 7.8 , 6.6 Hz , 2 ) , 1.41 ( , 2 ) , 1.29 ( , 4 ) , 0.88 ( , = 6.6 Hz , 3 ) . 13C NMR ( 75 MHz , DMSO ) δ 170.2 , 158.7 , 136.3 , 129.5 , 121.5 , 115.6 , 113.1 , 67.2 , 53.0 , 35.6 , 31.0 , 28.7 , 25.2 , 22.1 , 13.9 . 4.6 Grignard m-Tolunitrile 4.6.1 1- ( m-tolyl ) propan-1-one ( 34 ) ( 1 M/THF , 85.36 mL , 85.36 mmol ) m-tolunitrile ( 10.25 mL , 85.36 mmol ) ( ) ( 40.64 mg , 0.213 mmol ) THF ( 170.72 mL ) n. 22 , quenched approx . 5 mL 1 HCl 0 ºC stirred 4 , allowing . layers separated MgSO 4 , filtered , . , purified ( , 0 10 % EtOAc/Hex ) compound7 34 94 % ( 9.4 ) . 1H NMR ( 300 MHz , CDCl 3 ) δ 7.76 ( , 1H ) , 7.38 ( , 3H ) , 2.99 ( , = 7.2 Hz , 2H ) , 2.41 ( , 3H ) , 1.22 ( , = 7.2 Hz , 3H ) . 4.6.2 1- ( m-tolyl ) butan-1-one ( 35 ) Propylmagnesium ( 2 M/THF , 42.68 mL , 85.36 mmol ) , m-tolunitrile ( 10.25 mL , 85.36 mmol ) , CuI ( 40.64 mg , 0.213 mmol ) compound8 96 % ( 13.24 ) . 1H NMR ( 300 MHz , CDCl 3 ) δ 7.77 ( , 2H ) , 7.36 ( , 2H ) , 2.94 ( , = 7.2 Hz , 2H ) , 2.41 ( 3H ) , 1.76 ( sx , = 7.2 Hz , 2H ) , 1.00 ( , = 7.2 Hz , 3H ) . 4.6.3 1- ( m-tolyl ) pentan-1-one ( 36 ) butylmagnesium ( 2 M/THF , 42.68 mL , 85.36 mmol ) , m-tolunitrile ( 10.25 mL , 85.36 mmol ) , CuI ( 40.64 mg , 0.213 mmol ) compound9 76 % ( 11.43 ) . 1H NMR ( 300 MHz , CDCl 3 ) δ 7.75 ( , 2H ) , 7.34 ( , 2H ) , 2.95 ( , = 7.2 Hz , 2H ) , 2.41 ( , 3H ) , 1.71 ( , = 7.5 Hz , 2H ) , 1.41 ( sx , = 7.2 Hz , 2H ) , 0.95 ( , = 7.5 Hz , 3H ) . 4.6.4 1- ( m-tolyl ) hexan-1-one ( 37 ) Pentylmagnesium ( 1 M/THF , 42.68 mL , 85.36 mmol ) , m-tolunitrile ( 10.25 mL , 85.36 mmol ) , CuI ( 40.64 mg , 0.213 mmol ) compound10 94 % ( 15.3 ) . 1H NMR ( 300 MHz , CDCl 3 ) δ 7.74 ( , 1H ) , 7.46 ( , 1H ) , 7.37 ( , 2H ) , 2.94 ( , = 6.9 Hz , 2H ) , 2.41 ( , 3H ) , 1.73 ( , = 7.2 Hz , 2H ) , 1.35 ( , 4H ) , 0.91 ( , = 6.6 Hz , 3H ) . ( ESI ) Communications © 2014S10 4.7 Protected Ketones 4.7.1 2-acetamido-2- ( 3-propionylbenzyl ) ( 38 ) m-Keto 34 ( 8.0 , 53.98 mmol ) CCl 4 ( 134.95 mL ) NBS ( 10.57 , 59.38 mmol ) AIBN ( 2.67 , 16.19 mmol ) , . , filtered , . round-bottom charged brominated 34 ( 4.24 , 19.09 mmol ) , 2-acetamidomalonate ( 3.73 , 17.18 mmol ) , 2CO 3 ( 5.28 , 38.18 mmol ) , KI ( 3.17 , 19.09 mmol ) , followed 119.3 mL MeCN , heated stirred . , cooled , filtered , . ( , 0 30 % EtOAc/Hex ) afforded 38 58 % ( 3.6 ) . 1H NMR ( 300 MHz , CDCl 3 ) δ 7.83 ( , = 7.8 Hz , 1 ) , 7.64 ( , 1 ) , 7.36 ( , = 7.8 , 7.5 Hz , 1 ) , 7.20 ( , = 8.4 Hz , 1 ) , 6.52 ( , 1 ) , 4.28 ( , = 7.2 , 6.9 Hz , 4 ) , 2.96 ( , = 7.2 Hz , 2 ) , 2.05 ( , 3 ) , 1.31 ( , = 7.2 Hz , 6 ) , 1.21 ( , = 7.2 Hz , 3 ) . 13C NMR ( 75 MHz , CDCl 3 ) δ 200.5 , 169.3 , 167.4 , 137.0 , 136.0 , 134.5 , 129.3 , 128.6 , 127.1 , 67.2 , 63.0 , 37.7 , 31.9 , 23.1 , 14.1 , 8.3 . 4.7.2 2-acetamido-2- ( 3-butyrylbenzyl ) ( 39 ) Synthesized 35 ( 8.0 , 49.31 mmol ) , NBS ( 9.65 , 54.24 mmol ) , AIBN ( 2.43 , 14.79 mmol ) , 123.28 mL CCl 4 . . performed using brominated 35 ( 5.73 , 23.75 mmol ) , 2-acetamidomalonate ( 4.64 , 21.37 mmol ) , K2CO 3 ( 6.56 , 47.5 mmol ) , KI ( 3.94 , 23.75 mmol ) , 148 mL MeCN . 37 % , 2.9 g. 1H NMR ( 300 MHz , CDCl 3 ) δ 7.82 ( , = 7.8 Hz , 1 ) , 7.63 ( , 1 ) , 7.34 ( , = 7.5 Hz , 1 ) , 7.20 ( , = 7.2 Hz , 1 ) , 6.52 ( , 1 ) , 4.28 ( , = 7.2 , 6.9 Hz , 4 ) , 2.89 ( , = 7.2 Hz , 2 ) , 2.05 ( , 3 ) , 1.75 ( sx , = 7.5 , 7.2 Hz , 2 ) , 1.31 ( , = 7.2 Hz , 6 ) , 0.99 ( , = 7.5 Hz , 3 ) . 13C NMR ( 75 MHz , CDCl 3 ) δ 200.1 , 169.3 , 167.4 , 137.2 , 136.0 , 134.5 , 129.4 , 128.6 , 127.1 , 67.2 , 63.0 , 40.6 , 37.7 , 23.1 , 17.8 , 14.1 , 14.0 . 4.7.3 2-acetamido-2- ( 3-pentanoylbenzyl ) ( 40 ) Synthesized 36 ( 9.5 , 53.9 mmol ) , NBS ( 10.55 , 59.29 mmol ) , AIBN ( 2.66 , 16.17 mmol ) , 134.75 mL CCl 4 . . performed using brominated 36 ( 6.26 , 24.53 mmol ) , 2-acetamidomalonate ( 4.79 , 22.08 mmol ) , K2CO 3 ( 6.78 , 49.07 mmol ) , KI ( 4.07 , 24.53 mmol ) , 153.3 mL MeCN . 51 % ( 4.4 ) . 1H NMR ( 300 MHz , CDCl 3 ) δ 7.82 ( , = 8.1 Hz , 1 ) , 7.62 ( , 1 ) , 7.36 ( , = 7.8 Hz , 1 ) , 6.52 ( , 1 ) , 4.28 ( , = 7.2 Hz , 4 ) , 3.7 ( , 2 ) , 2.92 ( ESI ) Communications © 2014S11 ( , = 7.5 Hz , 2 ) , 2.05 ( , 3 ) , 1.70 ( , = 7.8 , 7.5 , 7.2 Hz , 2 ) , 1.38 ( , = 7.8 , 7.5 , 7.2 Hz , 2 ) , 1.31 ( , = 6.9 , 7.2 Hz , 6 ) , 0.95 ( , = 7.2 Hz , 3 ) . 13C NMR ( 75 MHz , CDCl 3 ) δ 200.2 , 169.3 , 167.4 , 137.2 , 135.9 , 134.5 , 129.3 , 128.6 , 127.1 , 67.2 , 62.9 , 38.4 , 37.7 , 26.4 , 23.1 , 22.5 , 14.0 . 4.7.4 2-acetamido-2- ( 3-hexanoylbenzyl ) ( 41 ) Synthesized 37 ( 10.0 , 52.55 mmol ) , NBS ( 10.3 , 57.81 mmol ) , AIBN ( 2.59 , 15.77 mmol ) , 131.38 mL CCl 4 . . performed using brominated 37 ( 5.73 , 23.75 mmol ) , 2-acetamidomalonate ( 4.52 , 20.79 mmol ) , K2CO 3 ( 6.39 , 46.21 mmol ) , KI ( 3.84 , 23.11 mmol ) , 144.44 mL MeCN . 37 % ( 3.1 ) . 1H NMR ( 300 MHz , CDCl 3 ) δ 7.82 ( , = 6.6 Hz , 1 ) , 7.62 ( , 1 ) , 7.36 ( , = 7.5 Hz , 1 ) , 7.20 ( , = 7.5 Hz , 1 ) , 6.52 ( , 1 ) , 4.28 ( , = 7.2 Hz , 4 ) , 3.71 ( , 2 ) , 2.91 ( , = 7.5 Hz , 2 ) , 2.05 ( , 3 ) , 1.72 ( , 2 ) , 1.34 ( , 4 ) , 1.31 ( , 6 ) , 0.91 ( , = 6.6 Hz , 3 ) . 13C NMR ( 75 MHz , CDCl 3 ) δ 200.2 , 169.4 , 167.4 , 137.2 , 135.9 , 134.5 , 129.3 , 128.6 , 127.1 , 67.2 , 62.9 , 38.7 , 37.7 , 31.6 , 24.0 , 23.1 , 22.6 , 14.1 . 4.8 Deprotection 4.8.1 2-amino-3- ( 3-propionylphenyl ) propanoic ( 12 ) 38 ( 1.0 , 2.75 mmol ) 6 HCl , groups verified 1H NMR . vacuo 12 ( 36 % , 256 mg ) . 1H NMR ( 300 MHz , 2O ) δ 7.93 ( , = 6.9 Hz , 1 ) , 7.87 ( , 1 ) , 7.55 ( , 2 ) , 4.16 ( , = 7.2 Hz , 1 ) , 3.30 ( dq , = 14.1 , 5.7 Hz , 2 ) , 3.09 ( , = 7.2 Hz , 2 ) , 1.14 ( , = 6.9 Hz , 3 ) . 13C NMR ( 75 MHz , 2O ) δ 206.4 , 172.4 , 136.8 , 135.1 , 134.4 , 129.3 , 128.7 , 127.5 , 54.8 , 35.7 , 31.9 , 7.5 . 4.8.2 2-amino-3- ( 3-butyrylphenyl ) propanoic ( 13 ) Synthesized proc edure using 39 ( 1.0 , 2.65 mmol ) 9.14 mL 6 HCl . 80 % , 576 mg. 1H NMR ( 300 MHz , 2O ) δ 7.95 ( , = 7.2 Hz , 1 ) , 7.85 ( , 1 ) , 7.53 ( , 2 ) , 4.28 ( , = 7.2 Hz , 1 ) , 3.31 ( dq , = 14.7 , 5.7 Hz , 2 ) , 3.02 ( , = 7.2 Hz , 2 ) , 1.66 ( , = 7.2 Hz , 2 ) , 0.92 ( , = 7.2 Hz , 3 ) . 13C NMR ( 75 MHz , 2O ) δ 206.1 , 171.5 , 136.9 , 134.8 , 134.5 , 129.4 , 128.8 , 127.8 , 54.2 , 40.4 , 35.4 , 17.6 , 12.8 . 4.8.3 2-amino-3- ( 3-pentanoylphenyl ) propanoic ( 14 ) Synthesized cedure using 40 ( 1.08 , 2.75 mmol ) 9.48 mL 6 HCl . 29 % , 200 mg. 1H NMR 7.96 ( dt , = 7.2 Hz , 1 ) , 7.87 ( , 1 ) , 7.58 ( , 2 ) , 4.31 ( , = 7.2 Hz , 1 ) , 3.35 ( dq , = 14.7 , 5.7 Hz , 2 ) , 3.07 ( , = 7.2 Hz , 2 ) , 1.65 ( , = 7.2 Hz , 2 ) , 1.34 ( sx , = 7.5 , 7.2 Hz , 2 ) , 0.91 ( , = 7.2 Hz , 3 ) . 13C NMR ( 75 MHz , 2O ) δ 206.2 , 171.5 , 136.9 , 134.7 , 134.5 , 129.4 , 128.8 , 127.8 , 54.2 , 38.3 , 35.4 , 26.2 , 21.6 , 13.0 . ( ESI ) Communications © 2014S12 4.8.4 2-amino-3- ( 3-hexanoylphenyl ) propanoic ( 15 ) Synthesized proc edure using 41 ( 1.03 , 2.55 mmol ) 8.79 mL 6 HCl . 34 % , 229 mg. 1H NMR ( 300 MHz , 2O ) δ 7.95 ( , = 7.2 Hz , 1 ) , 7.87 ( , 1 ) , 7.57 ( , 2 ) , 4.22 ( , = 7.2 Hz , 1 ) , 3.33 ( dq , = 14.7 , 7.8 Hz , 2 ) , 3.08 ( , = 7.2 Hz , 2 ) , 1.68 ( , 2 ) , 1.33 ( , 4 ) , 0.86 ( , 3 ) . 13C NMR ( 75 MHz , 2O ) δ 205.2 , 181.6 , 139.1 136.3 , 134.6 , 128.8 , 128.7 , 126.3 , 57.3 , 40.9 , 30.7 , 23.8 , 21.8 , 13.3 . 5. sfGFPS2TAG ’ MAXKGEELFTGVVPILVELDGDVNGHKFSVRGEGEGDATNGKLTLKFICTTGKL PVPWPTLVTTLTYGVQCFSRYPDHMKRHDFFKSAMPEGYVQERTISFKDDGTYK TRAEVKFEGDTLVNRIELKGIDFKEDGNILGHKLEYNFNSHNVYITADKQKNGI ANFKIRHNVEDGSVQLADHYQQNTPIGDGPVLLPDNHYLSTQSVLSKDPNEKRDHMVLLEFVTAAGITHGMDELYKGSHHHHHH denotes . Compounds 5-15 using . sfGFP 1-4 described . 1,2 References 1 . , Y.-S. ; , X. ; Wallace , A. L. ; Wu , B. ; Liu , W. R. . . Chem . . 2012 , 134 , 2950-2953 . 2 . , Y.-S. ; , X. ; Chen , H.-Y . ; Wu , B. ; , Z. U. ; Hilty , C. ; Liu , W. R. ACS Chem . Biol . 2013 , 8 , 405-415 . 3 . Wu . B. ; , Z. ; Huang , Y. ; Liu , W. R. ChemBiochem . 2012 , 13 , 1405-1408 . 4 . . ) Cabiddu , M. G. ; Cadoni , E. ; Montis , S. D. ; Fattouni , C. ; Melis , S. ; Usai , M. 2003 , 59 , 4383-4387 . . ) , A. W. ; , P.A . ; Hayman , D. F. J. Chem . . ( ) 1971 , 1231-1240 . 5 . , S. L. ; Lawrence , A. L. ; Sherburn , M. S. Ang . Chem . Int Ed . 2013 , 52 , 4221- 4224 . 6 . Humphrey , C. E. ; Furegati , M. ; Laumen , K. ; Vecchia , L. L. ; Leutert , T. ; - Hartwig , C. D. ; Vogtle , M. Org . Res . . 2007 , 11 , 1069-1075 . 7 . Carroll , F. I. ; Blough , B. E. ; Abraham , P. ; Mills , A. C. ; Holleman , . A. ; Wolckenhauer , S. A. ; , A. M. ; Landavazo , A. ; McElroy , K. T. ; Navarro , H. A. ; , M. B. ; Forster , M. J. J. Med . Chem . 2009 , 52 , 6768-6781 . 8 . Liu , Y. ; Yao , B. ; Deng . C.-L. ; , R.-Y . ; Zhang , X.-G. ; , J.-H. Org . Lett . 2011 , 13 , 2184-2187 . 9 . Meltzer , P. Z. ; , D. ; Deschamps , J. R. ; Madras , B. K. J. Med . Chem . 2006 , 49 , 1420-1432 . 10 . Ruan , J. ; Saidi , O. ; Iggo , . A. ; Xiao , J. . . Chem . . 2008 , 130 , 10510- 10511 . ( ESI ) Communications © 2014S13 6 . NMR ( ESI ) Communications © 2014S14 ( ESI ) Communications © 2014S15 ( ESI ) Communications © 2014S16 ( ESI ) Communications © 2014S17 ( ESI ) Communications © 2014S18 ( ESI ) Communications © 2014S19 ( ESI ) Communications © 2014S20 ( ESI ) Communications © 2014S21 ( ESI ) Communications © 2014S22 ( ESI ) Communications © 2014S23 ( ESI ) Communications © 2014S24 ( ESI ) Communications © 2014S25 ( ESI ) Communications © 2014S26 ( ESI ) Communications © 2014S27 ( ESI ) Communications © 2014S28 ( ESI ) Communications © 2014S29 ( ESI ) Communications © 2014S30 ( ESI ) Communications © 2014S31 ( ESI ) Communications © 2014S32 ( ESI ) Communications © 2014S33 ( ESI ) Communications © 2014S34 ( ESI ) Communications © 2014S35 ( ESI ) Communications © 2014S36 ( ESI ) Communications © 2014S37 ( ESI ) Communications © 2014S38 ( ESI ) Communications © 2014S39 ( ESI ) Communications © 2014S40 ( ESI ) Communications © 2014S41 ( ESI ) Communications © 2014S42 ( ESI ) Communications © 2014S43 ( ESI ) Communications © 2014S44 ( ESI ) Communications © 2014S45 ( ESI ) Communications © 2014S46 ( ESI ) Communications © 2014S47 ( ESI ) Communications © 2014S48 ( ESI ) Communications © 2014S49 ( ESI ) Communications © 2014S50 ( ESI ) Communications © 2014S51 ( ESI ) Communications © 2014S52 ( ESI ) Communications © 2014S53 ( ESI ) Communications © 2014S54 ( ESI ) Communications © 2014S55 ( ESI ) Communications © 2014S56 ( ESI ) Communications © 2014S57 ( ESI ) Communications © 2014S1 -canonical acids Alfred Tuley , Yane-Shih , Xinqiang , Yadagiri Kurra , Yohannes Rezenom , Wenshe Liu , Texas & , , TX 77843 E-mail : wliu @ chem.tamu.edu ( ESI ) Communications © 2014S2 1 . Superfolder ··················································S3 2 . Labeling ········································································································S3 3 . ESI-MS Proteins ··········································································S3 4 . ······································································································S3 5. sfGFP Sequence···························································································S12 6 . NMR Data················································································································S13 ( ESI ) Communications © 2014S3 1 . Superfolder constructs compounds 1-4 reports.1,2 compounds 5-15 , BL21 ( DE3 ) E. cells containing pEVOL-PylT-pylRS- PylRSN346A/C348A ( Cmr ) pET-PylT-sfGFP-S2TAG ’ ( Ampr ) vectors 500 mL LB ampicillin ( 100 µg/mL ) ( 34 µg/mL ) 600 reached 1.0-1.3 , cells 4,000 r.p.m . 20 , resuspended 30 mL 2O . resuspended cells 5 mL aliquots 45 mL ( 33.7 mM 2HPO 4 , 22 mM KH 2PO 4 , 8.6 mM NaCl , 9.4 mM NH 4Cl , 1 mM MgSO 4 , 0.3 mM CaCl 2 , 1 % ) supplemented 2 mM non-canonical ( ) , 1 mM IPTG , 0.2 % , allowed 12 h. cells 4,000 r.p.m . 20 , resuspended ( 50 mM NaH 2PO 4 , 300 mM NaCl , pH 8 ) lysed sonication . centrifuged 10,000 r.p.m . 1 , treated 10 mM . , incubated Ni2+-NTA 1 4 ºC . containing 10 mM ( 3x ) 20 mM ( 3x ) , eluted ( 50 mM NaH 2PO 4 , 300 mM NaCl , 500 mM , pH 8 ) . dialyzed 10 mM Tris , , proteins using Amicon Ultracel-10k units . proteins 15 % SDS-PAGE ESI-MS . Yields using BCA ( ) . 2. sfGFP-2 Labeling 16 µl 1X buffered ( PBS ) 2 µl sfGFP -2 ( 3 mg/mL , 1 µM ) 2 µl Dibenzylcyclooctyne ( DBCO ) ( 25 mM , DMSO ) 3 allowed . 180 µl methanol -20 ºC 1 h. , centrifuged 5 , 14,000 r.p.m . 100 % methanol . , resuspended 20 µl 2O SDS-PAGE . 4 µl sfGFP -3 ( 5 mg/mL , 0.9 µM ) 14 µl PBS , followed 2 µl DBCO . 3 . ESI-MS Proteins Nanoelectrospray performed using Biosystems QSTAR Pulsar ( , , ) equipped nanoelectrospray . flowed 700 nL/min 50 µm -silica . Electrospray held 2100 V. 4 . Reactions using -dried , . Reagents purchased . NMR obtained Inova 300 Mercury 300 MHz instruments . ( ESI ) Communications © 2014S4 4.1 2-amino-3- ( [ ] [ 1,3 ] dioxol-5-yl ) propanoic ( 1 ) 16 ( 5 , 8.06 mmol ) MeCN ( 25 mL ) Cs 2CO 3 ( 3.93g 12.09 mmol ) , followed CH 2Cl2 ( 5.21 mL , 8.06 mmol ) . 4 hours . , , 17 40 % ( 2.12 ) .4 1HNMR ( 300 MHz , CDCl 3 ) δ 6.71 ( , 3H ) , 5.93 ( , 2H ) , 2.27 ( , 3H ) . 17 ( 2.0 , 14.7 mmol ) dissolved CCl 4 ( 15 mL ) , followed NBS ( 3.12 , 17.62 mmol ) AIBN ( 0.337 , 2.05 mmol ) . heated 12 . , 18,5 . 18 ( 3.5 , 16.27 mmol ) ( 15 mL ) 2-acetamidomalonate ( 3.88 , 17.88 mmol ) , 2CO 3 ( 4.49 , 32.53 mmol ) KI ( 1.0 , 15.38 mmol ) . heated 12 , cooled . filtered , , purified hexanes/ethyl ( 3:1 v/v ) eluent 19 ( 60 % , 3.42 ) . 1HNMR ( 300 MHz , CDCl 3 ) δ 6.69 ( , = 8.2Hz , 1 ) , 6.57 ( , = 7.9 Hz , 1 ) , 6.47 ( , 1H ) , 5.92 ( , 2H ) , 4.30-4.22 ( , 4H ) , 3.56 ( , 2H ) , 2.04 ( , 3H ) , 1.32-1.23 ( , 6H ) . 19 ( 3.0 , 8.54 mmol ) 3 HCl ( 91.16 mL , 32 eq . ) heated 16 . evaporated . Et 2O ( 10 mL × 3 ) 1 ( 68 % , 1.42 ) . 1H NMR ( 300 MHz , CD 3OD ) δ 6.78-6.66 ( , 3H ) , 5.85 ( , 2H ) , 4.14 ( , = 6.6 Hz , 1 ) , 3.09 ( ABq , = 15.3 , 6.6 Hz , 2 ) . 13C NMR ( 75 MHz , CD 3OD ) δ 169.8 , 148.1 , 147.3 , 127.6 , 122.6 , 109.1 , 108.2 , 101.1 , 53.9 , 39.5 . ( ESI ) Communications © 2014S5 4.2 4.2.1 ( ) -2-amino-3- ( 4- ( cyclopentylmethoxy ) ) propanoic ( 3 ) N-Boc-o-methyl- L-tyrosine ( 20 ) ( 1.3 , 4.4 mmol ) , cyclopentylmethanol ( 0.57 mL , 5.28 mmol ) , ( 1.73 , 6.6 mmol ) , evacuated replaced . THF ( 10 mL ) cooled 0 ºC , ( 1.3 mL , 6.6 mmol ) stirred . , purified ( , 25 % 50 % acetate/hexanes ) 21 78 % ( 1.3 ) . deprotected using described ; 1 5 mL 1 NaOH/THF hours , followed Boc deprotection 5 mL 4 HCl/dioxane 3 97 % ( 898 mg ) , steps . 1H NMR ( 300 MHz , CD 3OD ) δ 7.16 ( , = 8.4 Hz , 2 ) , 6.87 ( , = 8.7 , 6.9 Hz , 2 ) , 4.15 ( , = 5.4 Hz , 1 ) , 3.80 ( , = 6.9 Hz , 2 ) , 3.14 ( dd , = 7.8 , 5.4 Hz , 2 ) , 2.31 ( , 1 ) , 1.82 ( , 2 ) , 1.61 ( , 4 ) , 1.36 ( , 2 ) . 13C NMR ( 75 MHz , CD 3OD ) δ 169.9 , 158.9 , 130.0 , 125.6 , 114.6 , 71.8 , 53.8 , 38.9 , 35.0 , 28.9 , 24.9 . 4.2.2 ( ) -2-amino-3- ( 4- ( but-2-yn-1-yloxy ) ) propanoic ( 4 ) N-Boc-o-methyl- L-tyrosine ( 1 , 3.39 mmol ) treated 3-bromo-2-propyne ( 0.36 mL , 4.06 mmol ) ( 1.4 , 10.2 mmo ) DMF ( ESI ) Communications © 2014S6 . 3 HCl . layers , , purified ( , 25 % 50 % acetate/hexanes ) protected 24 30 % ( 370 mg ) . Deprotection using 4 44 % ( 274 mg ) . 1H NMR ( 300 MHz , CD 3OD ) δ 7.10 ( , = 8.7 Hz , 2 ) , 6.83 ( , = 8.7 Hz , 2 ) , 4.53 ( , 2 ) , 4.08 ( , = 7.5 Hz , 1 ) , 3.02 ( dd , = 14.7 , 7.5 Hz , 2 ) , 1.68 ( , 3 ) . 13C NMR ( 75 MHz , CD 3OD ) δ 168.1 , 155.8 , 128.4 , 124.6 , 113.3 , 81.0 , 72.0 , 53.9 , 52.0 , 33.2 . 4.2.3 ( ) -2-amino-3- ( 4- ( 2-azidoethoxy ) ) propanoic ( 2 ) N-Boc-o-methyl- L-tyrosine 20 ( 1.8 , 6.09 mmol ) treated 26 ( 1.8 , 7.31 mmol ) ( 3.3 , 24.4 mmol ) DMF ( 10 mL ) heated 80 ºC . TLC , purified ( , 25 % 50 % acetate/hexanes ) 22 . Deprotection achieved using 20 mL 1 LiOH , followed 5 mL 4 HCl/Dioxane 2 ( 50 % , steps , 873 mg ) . 1H NMR ( 300 MHz , 2O ) δ 7.16 ( , = 8.4 Hz , 2 ) , 6.88 ( , = 8.4 Hz , 2 ) , 4.11 ( , 3 ) , 3.50 ( , 2 ) , 3.11 ( , = 7.2 , 6.9 , 5.4 Hz , 2 ) . 13C NMR ( 75 MHz , 2O ) δ 169.8 , 158.1 , 130.2 , 126.4 , 114.7 , 67.0 , 53.8 , 49.8 , 35.0 . 4.3 m-Tyrosine 4.3.1 2-acetamido-3- ( 3-ethoxyphenyl ) propanoate ( 28 ) m-tyrosine6 27 ( 1.5 , 6.32 mmol ) DMF ( 12.64 mL ) K2CO 3 ( 2.84 , 20.55 mmol ) , followed ( 0.76 mL , 9.48 mmol ) . ( ESI ) Communications © 2014S7 stirred 18 , quenched 16 mL 2O 79 mL . 40 mL 2O , sulfate . umn ( , 50 75 % acetate/hexanes ) afforded , ( 72 % , 1.2 ) . 1H NMR ( 300 MHz , CDCl 3 ) δ 7.17 ( , = 7.8 Hz , 1H ) , 6.76 ( dd , = 8.1 , 5.7 Hz , 1 ) , 6.66 ( , 2 ) , 6.04 ( , = 7.5 Hz , 1 ) , 4.85 ( dt , = 7.8 , 5.7 Hz , 1 ) , 3.97 ( , = 6.9 Hz , 2 ) , 3.71 ( , 3 ) , 3.07 ( , = 8.1 , 5.7 Hz , 2 ) , 1.97 ( , 3 ) , 1.38 ( , = 6.9 Hz , 3 ) . 13C NMR ( 75 MHz , CDCl 3 ) δ 172.2 , 169.7 , 159.2 , 137.3 , 129.6 , 121.5 , 115.6 , 113.2 , 63.4 , 53.1 , 52.4 , 37.9 , 23.3 , 14.9 . 4.3.2 2-acetamido-3- ( 3-propoxyphenyl ) propanoate ( 29 ) Synthesized m-tyrosine ( 1.5 , 6.32 mmol ) , DMF ( 12.64 mL ) , 2CO 3 ( 2.84g , 20.55 mmol ) , n-propyl ( 0.86 mL , 9.48 mmol ) , , ( 68 % , 1.2 ) . 1H NMR ( 300 MHz , CDCl 3 ) δ 7.18 ( , = 8.1 Hz , 1 ) , 6.79 ( , = 5.7 Hz , 1 ) , 6.66 ( , 2H ) , 5.88 ( , = 7.8 Hz , 1 ) , 4.87 ( dt , = 7.8 , 5.7 Hz , 1H ) , 3.88 ( , = 6.6 Hz , 2 ) , 3.74 ( , 3 ) , 3.09 ( , = 8.1 , 5.7 Hz , 2 ) , 1.99 ( , 3H ) , 1.79 ( sx , = 7.2 Hz , 2 ) , 1.03 ( , = 7.2 Hz , 3 ) . 13C NMR ( 75 MHz , CDCl 3 ) δ 172.1 , 169.7 , 159.3 , 137.3 , 129.6 , 121.4 , 115.6 , 113.2 , 69.5 , 53.1 , 52.4 , 37.9 , 23.2 , 22.6 , 10.6 . 4.3.3 2-acetamido-3- ( 3-butoxyphenyl ) propanoate ( 30 ) Synthesized m-tyrosine ( 1.0 , 4.21 mmol ) , DMF ( 8.42 mL ) , 2CO 3 ( 1.89g , 13.69 mmol ) , n-butyl ( 0.72 mL , 6.32 mmol ) , ( 65 % , 0.8 ) . 1H NMR ( 300 MHz , CDCl 3 ) δ 7.19 ( , = 7.8 Hz , 1 ) , 6.77 ( , = 7.2 Hz , 1 ) , 6.64 ( , 2 ) , 5.87 ( , = 6.9 Hz , 1 ) , 4.87 ( dt , = 7.8 , 5.4 Hz , 1 ) , 3.92 ( , = 6.6 Hz , 2 ) , 3.74 ( , 3 ) , 3.09 ( dd , = 8.1 , 5.7 Hz , 2 ) , 1.99 ( , 3 ) , 1.76 ( , = 6.9 , 6.6 , 6.3 Hz , 2 ) , 1.46 ( , 2 ) , 0.97 ( , = 7.2 Hz , 3 ) . 13C NMR ( 75 MHz , CDCl 3 ) δ 172.2 , 169.7 , 159.4 , 137.3 , 129.6 , 121.4 , 115.6 , 113.2 , 67.7 , 53.1 , 52.4 , 37.9 , 31.4 , 23.2 , 19.3 , 13.9 . 4.3.4 2-acetamido-3- ( 3- ( pentyloxy ) ) propanoate ( 31 ) Synthesized m-tyrosine ( 1.5 , 6.32 mmol ) , DMF ( 12.64 mL ) , 2CO 3 ( 2.84g , 20.55 mmol ) , n-pentyl ( 1.18 mL , 9.48 mmol ) , ( 72 % , 1.4 ) . 1H NMR ( 300 MHz , CDCl 3 ) δ 7.19 ( , = 8.1 Hz , 1 ) , 6.78 ( , 1 ) , 6.63 ( , 2H ) , 5.87 ( , = 6.9 Hz , 1 ) , 4.82 ( dt , = 7.8 , 5.7 Hz , 1H ) , 3.91 ( , = 6.6 Hz , 2 ) , 3.74 ( , 3 ) , 3.10 ( dq , = 8.1 , 6.0 Hz , 2 ) , 1.99 ( , 3H ) , 1.77 ( , = 7.2 , 6.9 , 6.6 Hz , 2 ) , 1.39 ( , 4 ) , 0.93 ( , = 7.2 Hz , 3 ) . 13C NMR ( 75 MHz , CDCl 3 ) δ 172.1 , 169.7 , 159.2 , 137.3 , 129.5 , 121.2 , 115.5 , 113.0 , 67.8 , 53.1 , 52.3 , 37.8 , 28.9 , 28.2 , 23.0 , 22.4 , 14.0 . 4.4.5 2-acetamido-3- ( 3- ( hexyloxy ) ) propanoate ( 32 ) Synthesized pr ocedure m-tyrosine ( 1.0 , 4.21 mmol ) , DMF ( 8.42 mL ) , 2CO 3 ( 1.89g , 13.69 mmol ) , 1-iodohexane ( 0.93 mL , 6.32 mmol ) , ( 44 % , 0.6 ) . 1H NMR ( 300 MHz , CDCl 3 ) δ 7.18 ( , = 8.1 Hz , 1 ) , 6.77 ( dd , = 8.1 , 5.7 Hz , 1 ) , 6.63 ( , 2H ) , 5.88 ( , = 7.2 Hz , 1 ) , 4.87 ( dt , = 7.8 , 5.7 Hz , 1H ) , 3.91 ( , = 6.6 Hz , 1 ) , 3.74 ( , 3 ) , 3.09 ( , ( ESI ) Communications © 2014S8 = 8.1 , 5.7 Hz , 2 ) , 1.99 ( , 3H ) , 1.77 ( , = 8.1 , 6.6 Hz , 2 ) , 1.44 ( , 4 ) , 1.33 ( , 4H ) , 0.91 ( , = 7.2 Hz , 3 ) . 13C NMR ( 75 MHz , CDCl 3 ) δ 172.2 , 169.7 , 159.4 , 137.3 , 129.6 , 121.4 , 115.6 , 113.2 , 68.0 , 53.1 , 52.4 , 37.9 , 31.7 , 29.3 , 25.8 , 23.3 , 22.7 , 14.1 . 4.5 meta-alkoxy Deprotection : 4.5.1 2-amino-3- ( 3-ethoxyphenyl ) propanoic ( 6 ) charged 28 ( 1.1 , 4.15 mmol ) treated 14.3 mL 2 HCl , heated 100 ºC , observed TLC . cooled vacuo . , resubjected conditions and/or -acyl signals 1H 13C NMR . obtained 45 % ( 463 mg ) . 1H NMR ( 300 MHz , D2O ) δ 7.35 ( , = 7.8 Hz , 1 ) , 6.93 ( , 3 ) , 4.31 ( , = 7.5 Hz 1 ) , 4.11 ( , = 6.9 Hz , 2 ) , 3.24 ( dq , = 14.7 , 5.7 Hz , 2 ) , 1.37 ( , = 6.9 Hz , 3 ) . 13C NMR ( 75 MHz , D2O ) δ 171.4 , 158.3 , 135.6 , 130.4 , 122.1 , 115.5 , 114.1 , 64.2 , 54.0 , 35.5 , 13.8 . 4.5.2 2-amino-3- ( 3-propoxyphenyl ) propanoic ( 7 ) using 29 ( 1.0 , 3.58 mmol ) 12.34 mL 2 HCl . Obtained 43 % ( 402 mg ) . 1H NMR ( 300 MHz , 2O ) δ 7.34 ( , = 7.5 Hz , 1 ) , 6.90 ( , 3 ) , 4.29 ( , = 5.4 Hz , 1 ) , 3.97 ( , = 6.6 Hz ) , 3.21 ( dd , = 14.7 , 5.7 Hz , 2 ) , 1.73 ( sx , = 7.5 , 7.2 , 6.9 , 6.6 Hz , 2 ) , 0.96 ( , = 7.5 , 3 ) . 13C NMR ( 75 MHz , 2O ) δ 171.3 , 158.5 , 135.5 , 130.3 , 122.0 , 115.5 , 114.1 , 70.1 , 53.9 , 35.4 , 21.7 , 9.5 . 4.5.3 2-amino-3- ( 3-butoxyphenyl ) propanoic ( 8 ) using 30 ( 0.8 , 2.73 mmol ) 9.4 mL 2 HCl 30 % ( 222 mg ) . 1H NMR ( 300 MHz , DMSO ) δ 8.53 ( , 2 ) , 7.21 ( , = 7.8 Hz , 1 ) , 6.89 ( , 1 ) , 6.82 ( , = 7.8 Hz , 2 ) , 4.14 ( , = 5.4 Hz , 1 ) , 3.94 ( , = 6.6 Hz , 2 ) , 3.12 ( , = 6.0 Hz , 2 ) , 1.69 ( , = 7.5 , 6.9 , 6.6 Hz , 2 ) , 1.45 ( sx , = 7.5 , 7.2 Hz , 2 ) , 0.93 ( , = 7.2 Hz , 3 ) . 13C NMR ( 75 MHz , DMSO ) δ 170.2 , 158.7 , 136.4 , 129.5 , 121.5 , 115.6 , 113.1 , 66.9 , 53.1 , 35.5 , 30.8 , 18.8 , 13.7 . 4.5.4 2-amino-3- ( 3- ( pentylox ) ) propanoic ( 9 ) using 31 ( 1.0 , 3.25 mmol ) 11.2 mL 2 HCl 61 % ( 570 mg ) . 1H NMR ( 300 MHz , DMSO ) δ 8.49 ( , 2 ) , 7.21 ( , = 7.5 Hz , 1 ) , 6.88 ( , 1 ) , 6.82 ( , = 8.1 Hz , 2 ) , 4.14 ( , = 6.0 Hz , 1 ) , 3.94 ( , = 6.6 Hz , 1 ) , 3.11 ( , = 6.0 Hz , 2 ) , 1.71 ( , = 6.9 , 6.6 , 6.3 Hz , 2 ) , 1.36 ( , 4 ) , 0.89 ( , = 6.6 Hz , 3 ) . 13C NMR ( 75 MHz , DMSO ) δ 170.2 , 158.7 , 136.4 , 129.5 , 121.6 , 115.6 , 113.1 , 67.2 , 53.0 , 35.6 , 28.4 , 27.7 , 21.9 , 13.9 . 4.5.5 2-amino-3- ( 3- ( hexyloxy ) ) propanoic ( 10 ) using 32 ( 0.6 , 1.87 mmol ) 6.44 mL 2 HCl und 65 % ( 367 ( ESI ) Communications © 2014S9 mg ) . 1H NMR ( 300 MHz , DMSO ) δ 8.48 ( , 3 ) , 7.21 ( , = 7.8 Hz , 1 ) , 6.88 ( , 1 ) , 6.82 ( , = 7.8 Hz , 2 ) , 4.13 ( , = 5.1 , 4.5 Hz , 1 ) , 3.93 ( , = 6.6 Hz , 2 ) , 3.10 ( , = 6.3 Hz , 2 ) , 1.69 ( , = 7.8 , 6.6 Hz , 2 ) , 1.41 ( , 2 ) , 1.29 ( , 4 ) , 0.88 ( , = 6.6 Hz , 3 ) . 13C NMR ( 75 MHz , DMSO ) δ 170.2 , 158.7 , 136.3 , 129.5 , 121.5 , 115.6 , 113.1 , 67.2 , 53.0 , 35.6 , 31.0 , 28.7 , 25.2 , 22.1 , 13.9 . 4.6 Grignard m-Tolunitrile 4.6.1 1- ( m-tolyl ) propan-1-one ( 34 ) ( 1 M/THF , 85.36 mL , 85.36 mmol ) m-tolunitrile ( 10.25 mL , 85.36 mmol ) ( ) ( 40.64 mg , 0.213 mmol ) THF ( 170.72 mL ) n. 22 , quenched approx . 5 mL 1 HCl 0 ºC stirred 4 , allowing . layers separated MgSO 4 , filtered , . , purified ( , 0 10 % EtOAc/Hex ) compound7 34 94 % ( 9.4 ) . 1H NMR ( 300 MHz , CDCl 3 ) δ 7.76 ( , 1H ) , 7.38 ( , 3H ) , 2.99 ( , = 7.2 Hz , 2H ) , 2.41 ( , 3H ) , 1.22 ( , = 7.2 Hz , 3H ) . 4.6.2 1- ( m-tolyl ) butan-1-one ( 35 ) Propylmagnesium ( 2 M/THF , 42.68 mL , 85.36 mmol ) , m-tolunitrile ( 10.25 mL , 85.36 mmol ) , CuI ( 40.64 mg , 0.213 mmol ) compound8 96 % ( 13.24 ) . 1H NMR ( 300 MHz , CDCl 3 ) δ 7.77 ( , 2H ) , 7.36 ( , 2H ) , 2.94 ( , = 7.2 Hz , 2H ) , 2.41 ( 3H ) , 1.76 ( sx , = 7.2 Hz , 2H ) , 1.00 ( , = 7.2 Hz , 3H ) . 4.6.3 1- ( m-tolyl ) pentan-1-one ( 36 ) butylmagnesium ( 2 M/THF , 42.68 mL , 85.36 mmol ) , m-tolunitrile ( 10.25 mL , 85.36 mmol ) , CuI ( 40.64 mg , 0.213 mmol ) compound9 76 % ( 11.43 ) . 1H NMR ( 300 MHz , CDCl 3 ) δ 7.75 ( , 2H ) , 7.34 ( , 2H ) , 2.95 ( , = 7.2 Hz , 2H ) , 2.41 ( , 3H ) , 1.71 ( , = 7.5 Hz , 2H ) , 1.41 ( sx , = 7.2 Hz , 2H ) , 0.95 ( , = 7.5 Hz , 3H ) . 4.6.4 1- ( m-tolyl ) hexan-1-one ( 37 ) Pentylmagnesium ( 1 M/THF , 42.68 mL , 85.36 mmol ) , m-tolunitrile ( 10.25 mL , 85.36 mmol ) , CuI ( 40.64 mg , 0.213 mmol ) compound10 94 % ( 15.3 ) . 1H NMR ( 300 MHz , CDCl 3 ) δ 7.74 ( , 1H ) , 7.46 ( , 1H ) , 7.37 ( , 2H ) , 2.94 ( , = 6.9 Hz , 2H ) , 2.41 ( , 3H ) , 1.73 ( , = 7.2 Hz , 2H ) , 1.35 ( , 4H ) , 0.91 ( , = 6.6 Hz , 3H ) . ( ESI ) Communications © 2014S10 4.7 Protected Ketones 4.7.1 2-acetamido-2- ( 3-propionylbenzyl ) ( 38 ) m-Keto 34 ( 8.0 , 53.98 mmol ) CCl 4 ( 134.95 mL ) NBS ( 10.57 , 59.38 mmol ) AIBN ( 2.67 , 16.19 mmol ) , . , filtered , . round-bottom charged brominated 34 ( 4.24 , 19.09 mmol ) , 2-acetamidomalonate ( 3.73 , 17.18 mmol ) , 2CO 3 ( 5.28 , 38.18 mmol ) , KI ( 3.17 , 19.09 mmol ) , followed 119.3 mL MeCN , heated stirred . , cooled , filtered , . ( , 0 30 % EtOAc/Hex ) afforded 38 58 % ( 3.6 ) . 1H NMR ( 300 MHz , CDCl 3 ) δ 7.83 ( , = 7.8 Hz , 1 ) , 7.64 ( , 1 ) , 7.36 ( , = 7.8 , 7.5 Hz , 1 ) , 7.20 ( , = 8.4 Hz , 1 ) , 6.52 ( , 1 ) , 4.28 ( , = 7.2 , 6.9 Hz , 4 ) , 2.96 ( , = 7.2 Hz , 2 ) , 2.05 ( , 3 ) , 1.31 ( , = 7.2 Hz , 6 ) , 1.21 ( , = 7.2 Hz , 3 ) . 13C NMR ( 75 MHz , CDCl 3 ) δ 200.5 , 169.3 , 167.4 , 137.0 , 136.0 , 134.5 , 129.3 , 128.6 , 127.1 , 67.2 , 63.0 , 37.7 , 31.9 , 23.1 , 14.1 , 8.3 . 4.7.2 2-acetamido-2- ( 3-butyrylbenzyl ) ( 39 ) Synthesized 35 ( 8.0 , 49.31 mmol ) , NBS ( 9.65 , 54.24 mmol ) , AIBN ( 2.43 , 14.79 mmol ) , 123.28 mL CCl 4 . . performed using brominated 35 ( 5.73 , 23.75 mmol ) , 2-acetamidomalonate ( 4.64 , 21.37 mmol ) , K2CO 3 ( 6.56 , 47.5 mmol ) , KI ( 3.94 , 23.75 mmol ) , 148 mL MeCN . 37 % , 2.9 g. 1H NMR ( 300 MHz , CDCl 3 ) δ 7.82 ( , = 7.8 Hz , 1 ) , 7.63 ( , 1 ) , 7.34 ( , = 7.5 Hz , 1 ) , 7.20 ( , = 7.2 Hz , 1 ) , 6.52 ( , 1 ) , 4.28 ( , = 7.2 , 6.9 Hz , 4 ) , 2.89 ( , = 7.2 Hz , 2 ) , 2.05 ( , 3 ) , 1.75 ( sx , = 7.5 , 7.2 Hz , 2 ) , 1.31 ( , = 7.2 Hz , 6 ) , 0.99 ( , = 7.5 Hz , 3 ) . 13C NMR ( 75 MHz , CDCl 3 ) δ 200.1 , 169.3 , 167.4 , 137.2 , 136.0 , 134.5 , 129.4 , 128.6 , 127.1 , 67.2 , 63.0 , 40.6 , 37.7 , 23.1 , 17.8 , 14.1 , 14.0 . 4.7.3 2-acetamido-2- ( 3-pentanoylbenzyl ) ( 40 ) Synthesized 36 ( 9.5 , 53.9 mmol ) , NBS ( 10.55 , 59.29 mmol ) , AIBN ( 2.66 , 16.17 mmol ) , 134.75 mL CCl 4 . . performed using brominated 36 ( 6.26 , 24.53 mmol ) , 2-acetamidomalonate ( 4.79 , 22.08 mmol ) , K2CO 3 ( 6.78 , 49.07 mmol ) , KI ( 4.07 , 24.53 mmol ) , 153.3 mL MeCN . 51 % ( 4.4 ) . 1H NMR ( 300 MHz , CDCl 3 ) δ 7.82 ( , = 8.1 Hz , 1 ) , 7.62 ( , 1 ) , 7.36 ( , = 7.8 Hz , 1 ) , 6.52 ( , 1 ) , 4.28 ( , = 7.2 Hz , 4 ) , 3.7 ( , 2 ) , 2.92 ( ESI ) Communications © 2014S11 ( , = 7.5 Hz , 2 ) , 2.05 ( , 3 ) , 1.70 ( , = 7.8 , 7.5 , 7.2 Hz , 2 ) , 1.38 ( , = 7.8 , 7.5 , 7.2 Hz , 2 ) , 1.31 ( , = 6.9 , 7.2 Hz , 6 ) , 0.95 ( , = 7.2 Hz , 3 ) . 13C NMR ( 75 MHz , CDCl 3 ) δ 200.2 , 169.3 , 167.4 , 137.2 , 135.9 , 134.5 , 129.3 , 128.6 , 127.1 , 67.2 , 62.9 , 38.4 , 37.7 , 26.4 , 23.1 , 22.5 , 14.0 . 4.7.4 2-acetamido-2- ( 3-hexanoylbenzyl ) ( 41 ) Synthesized 37 ( 10.0 , 52.55 mmol ) , NBS ( 10.3 , 57.81 mmol ) , AIBN ( 2.59 , 15.77 mmol ) , 131.38 mL CCl 4 . . performed using brominated 37 ( 5.73 , 23.75 mmol ) , 2-acetamidomalonate ( 4.52 , 20.79 mmol ) , K2CO 3 ( 6.39 , 46.21 mmol ) , KI ( 3.84 , 23.11 mmol ) , 144.44 mL MeCN . 37 % ( 3.1 ) . 1H NMR ( 300 MHz , CDCl 3 ) δ 7.82 ( , = 6.6 Hz , 1 ) , 7.62 ( , 1 ) , 7.36 ( , = 7.5 Hz , 1 ) , 7.20 ( , = 7.5 Hz , 1 ) , 6.52 ( , 1 ) , 4.28 ( , = 7.2 Hz , 4 ) , 3.71 ( , 2 ) , 2.91 ( , = 7.5 Hz , 2 ) , 2.05 ( , 3 ) , 1.72 ( , 2 ) , 1.34 ( , 4 ) , 1.31 ( , 6 ) , 0.91 ( , = 6.6 Hz , 3 ) . 13C NMR ( 75 MHz , CDCl 3 ) δ 200.2 , 169.4 , 167.4 , 137.2 , 135.9 , 134.5 , 129.3 , 128.6 , 127.1 , 67.2 , 62.9 , 38.7 , 37.7 , 31.6 , 24.0 , 23.1 , 22.6 , 14.1 . 4.8 Deprotection 4.8.1 2-amino-3- ( 3-propionylphenyl ) propanoic ( 12 ) 38 ( 1.0 , 2.75 mmol ) 6 HCl , groups verified 1H NMR . vacuo 12 ( 36 % , 256 mg ) . 1H NMR ( 300 MHz , 2O ) δ 7.93 ( , = 6.9 Hz , 1 ) , 7.87 ( , 1 ) , 7.55 ( , 2 ) , 4.16 ( , = 7.2 Hz , 1 ) , 3.30 ( dq , = 14.1 , 5.7 Hz , 2 ) , 3.09 ( , = 7.2 Hz , 2 ) , 1.14 ( , = 6.9 Hz , 3 ) . 13C NMR ( 75 MHz , 2O ) δ 206.4 , 172.4 , 136.8 , 135.1 , 134.4 , 129.3 , 128.7 , 127.5 , 54.8 , 35.7 , 31.9 , 7.5 . 4.8.2 2-amino-3- ( 3-butyrylphenyl ) propanoic ( 13 ) Synthesized proc edure using 39 ( 1.0 , 2.65 mmol ) 9.14 mL 6 HCl . 80 % , 576 mg. 1H NMR ( 300 MHz , 2O ) δ 7.95 ( , = 7.2 Hz , 1 ) , 7.85 ( , 1 ) , 7.53 ( , 2 ) , 4.28 ( , = 7.2 Hz , 1 ) , 3.31 ( dq , = 14.7 , 5.7 Hz , 2 ) , 3.02 ( , = 7.2 Hz , 2 ) , 1.66 ( , = 7.2 Hz , 2 ) , 0.92 ( , = 7.2 Hz , 3 ) . 13C NMR ( 75 MHz , 2O ) δ 206.1 , 171.5 , 136.9 , 134.8 , 134.5 , 129.4 , 128.8 , 127.8 , 54.2 , 40.4 , 35.4 , 17.6 , 12.8 . 4.8.3 2-amino-3- ( 3-pentanoylphenyl ) propanoic ( 14 ) Synthesized cedure using 40 ( 1.08 , 2.75 mmol ) 9.48 mL 6 HCl . 29 % , 200 mg. 1H NMR 7.96 ( dt , = 7.2 Hz , 1 ) , 7.87 ( , 1 ) , 7.58 ( , 2 ) , 4.31 ( , = 7.2 Hz , 1 ) , 3.35 ( dq , = 14.7 , 5.7 Hz , 2 ) , 3.07 ( , = 7.2 Hz , 2 ) , 1.65 ( , = 7.2 Hz , 2 ) , 1.34 ( sx , = 7.5 , 7.2 Hz , 2 ) , 0.91 ( , = 7.2 Hz , 3 ) . 13C NMR ( 75 MHz , 2O ) δ 206.2 , 171.5 , 136.9 , 134.7 , 134.5 , 129.4 , 128.8 , 127.8 , 54.2 , 38.3 , 35.4 , 26.2 , 21.6 , 13.0 . ( ESI ) Communications © 2014S12 4.8.4 2-amino-3- ( 3-hexanoylphenyl ) propanoic ( 15 ) Synthesized proc edure using 41 ( 1.03 , 2.55 mmol ) 8.79 mL 6 HCl . 34 % , 229 mg. 1H NMR ( 300 MHz , 2O ) δ 7.95 ( , = 7.2 Hz , 1 ) , 7.87 ( , 1 ) , 7.57 ( , 2 ) , 4.22 ( , = 7.2 Hz , 1 ) , 3.33 ( dq , = 14.7 , 7.8 Hz , 2 ) , 3.08 ( , = 7.2 Hz , 2 ) , 1.68 ( , 2 ) , 1.33 ( , 4 ) , 0.86 ( , 3 ) . 13C NMR ( 75 MHz , 2O ) δ 205.2 , 181.6 , 139.1 136.3 , 134.6 , 128.8 , 128.7 , 126.3 , 57.3 , 40.9 , 30.7 , 23.8 , 21.8 , 13.3 . 5. sfGFPS2TAG ’ MAXKGEELFTGVVPILVELDGDVNGHKFSVRGEGEGDATNGKLTLKFICTTGKL PVPWPTLVTTLTYGVQCFSRYPDHMKRHDFFKSAMPEGYVQERTISFKDDGTYK TRAEVKFEGDTLVNRIELKGIDFKEDGNILGHKLEYNFNSHNVYITADKQKNGI ANFKIRHNVEDGSVQLADHYQQNTPIGDGPVLLPDNHYLSTQSVLSKDPNEKRDHMVLLEFVTAAGITHGMDELYKGSHHHHHH denotes . Compounds 5-15 using . sfGFP 1-4 described . 1,2 References 1 . , Y.-S. ; , X. ; Wallace , A. L. ; Wu , B. ; Liu , W. R. . . Chem . . 2012 , 134 , 2950-2953 . 2 . , Y.-S. ; , X. ; Chen , H.-Y . ; Wu , B. ; , Z. U. ; Hilty , C. ; Liu , W. R. ACS Chem . Biol . 2013 , 8 , 405-415 . 3 . Wu . B. ; , Z. ; Huang , Y. ; Liu , W. R. ChemBiochem . 2012 , 13 , 1405-1408 . 4 . . ) Cabiddu , M. G. ; Cadoni , E. ; Montis , S. D. ; Fattouni , C. ; Melis , S. ; Usai , M. 2003 , 59 , 4383-4387 . . ) , A. W. ; , P.A . ; Hayman , D. F. J. Chem . . ( ) 1971 , 1231-1240 . 5 . , S. L. ; Lawrence , A. L. ; Sherburn , M. S. Ang . Chem . Int Ed . 2013 , 52 , 4221- 4224 . 6 . Humphrey , C. E. ; Furegati , M. ; Laumen , K. ; Vecchia , L. L. ; Leutert , T. ; - Hartwig , C. D. ; Vogtle , M. Org . Res . . 2007 , 11 , 1069-1075 . 7 . Carroll , F. I. ; Blough , B. E. ; Abraham , P. ; Mills , A. C. ; Holleman , . A. ; Wolckenhauer , S. A. ; , A. M. ; Landavazo , A. ; McElroy , K. T. ; Navarro , H. A. ; , M. B. ; Forster , M. J. J. Med . Chem . 2009 , 52 , 6768-6781 . 8 . Liu , Y. ; Yao , B. ; Deng . C.-L. ; , R.-Y . ; Zhang , X.-G. ; , J.-H. Org . Lett . 2011 , 13 , 2184-2187 . 9 . Meltzer , P. Z. ; , D. ; Deschamps , J. R. ; Madras , B. K. J. Med . Chem . 2006 , 49 , 1420-1432 . 10 . Ruan , J. ; Saidi , O. ; Iggo , . A. ; Xiao , J. . . Chem . . 2008 , 130 , 10510- 10511 . ( ESI ) Communications © 2014S13 6 . NMR ( ESI ) Communications © 2014S14 ( ESI ) Communications © 2014S15 ( ESI ) Communications © 2014S16 ( ESI ) Communications © 2014S17 ( ESI ) Communications © 2014S18 ( ESI ) Communications © 2014S19 ( ESI ) Communications © 2014S20 ( ESI ) Communications © 2014S21 ( ESI ) Communications © 2014S22 ( ESI ) Communications © 2014S23 ( ESI ) Communications © 2014S24 ( ESI ) Communications © 2014S25 ( ESI ) Communications © 2014S26 ( ESI ) Communications © 2014S27 ( ESI ) Communications © 2014S28 ( ESI ) Communications © 2014S29 ( ESI ) Communications © 2014S30 ( ESI ) Communications © 2014S31 ( ESI ) Communications © 2014S32 ( ESI ) Communications © 2014S33 ( ESI ) Communications © 2014S34 ( ESI ) Communications © 2014S35 ( ESI ) Communications © 2014S36 ( ESI ) Communications © 2014S37 ( ESI ) Communications © 2014S38 ( ESI ) Communications © 2014S39 ( ESI ) Communications © 2014S40 ( ESI ) Communications © 2014S41 ( ESI ) Communications © 2014S42 ( ESI ) Communications © 2014S43 ( ESI ) Communications © 2014S44 ( ESI ) Communications © 2014S45 ( ESI ) Communications © 2014S46 ( ESI ) Communications © 2014S47 ( ESI ) Communications © 2014S48 ( ESI ) Communications © 2014S49 ( ESI ) Communications © 2014S50 ( ESI ) Communications © 2014S51 ( ESI ) Communications © 2014S52 ( ESI ) Communications © 2014S53 ( ESI ) Communications © 2014S54 ( ESI ) Communications © 2014S55 ( ESI ) Communications © 2014S56 ( ESI ) Communications © 2014S57 ( ESI ) Communications © 2014\n"
     ]
    }
   ],
   "source": [
    "import nltk\n",
    "from nltk.corpus import words\n",
    "from nltk.tokenize import word_tokenize\n",
    "\n",
    "# Download the words dataset if you haven't\n",
    "nltk.download('words')\n",
    "nltk.download('punkt')\n",
    "\n",
    "full_text = \"\"\n",
    "\n",
    "for page_num in range(pdfReader.numPages):\n",
    "    pageObj = pdfReader.getPage(page_num)\n",
    "    full_text += pageObj.extractText()\n",
    "\n",
    "tokens = word_tokenize(full_text)\n",
    "english_words = set(words.words())\n",
    "filtered_tokens = [token for token in tokens if token.lower() not in english_words]\n",
    "filtered_text = ' '.join(filtered_tokens)\n",
    "\n",
    "# my attempt at removing english words\n",
    "print(filtered_text)"
   ]
  },
  {
   "cell_type": "code",
   "execution_count": 91,
   "metadata": {},
   "outputs": [
    {
     "data": {
      "text/plain": [
       "[{'Full Name': '2-amino-3-(benzo[d][1,3]dioxol-5-yl)propanoic acid hydrochloride (1)',\n",
       "  'Prefix': '2',\n",
       "  'Core': 'amino',\n",
       "  'Suffix': 'propanoic acid hydrochloride ',\n",
       "  'Compound Number': '1',\n",
       "  'Page': 7},\n",
       " {'Full Name': '(S)-2-amino-3-(4-(cyclopentylmethoxy)phenyl)propanoic acid hydrochloride \\n(3)',\n",
       "  'Prefix': '(S)-2',\n",
       "  'Core': 'amino',\n",
       "  'Suffix': 'propanoic acid hydrochloride \\n',\n",
       "  'Compound Number': '3',\n",
       "  'Page': 8},\n",
       " {'Full Name': '(S)-2-amino-3-(4-(but-2-yn-1-yloxy)phenyl)propanoic acid hydrochloride (4)',\n",
       "  'Prefix': '(S)-2',\n",
       "  'Core': 'amino',\n",
       "  'Suffix': 'propanoic acid hydrochloride ',\n",
       "  'Compound Number': '4',\n",
       "  'Page': 8},\n",
       " {'Full Name': '(S)-2-amino-3-(4-(2-azidoethoxy)phenyl)propanoic acid hydrochloride (2)',\n",
       "  'Prefix': '(S)-2',\n",
       "  'Core': 'amino',\n",
       "  'Suffix': 'propanoic acid hydrochloride ',\n",
       "  'Compound Number': '2',\n",
       "  'Page': 9},\n",
       " {'Full Name': '2-acetamido-3-(3-ethoxyphenyl)propanoate (28)',\n",
       "  'Prefix': '2',\n",
       "  'Core': 'acetamido',\n",
       "  'Suffix': 'propanoate ',\n",
       "  'Compound Number': '28',\n",
       "  'Page': 9},\n",
       " {'Full Name': '2-acetamido-3-(3-propoxyphenyl)propanoate (29)',\n",
       "  'Prefix': '2',\n",
       "  'Core': 'acetamido',\n",
       "  'Suffix': 'propanoate ',\n",
       "  'Compound Number': '29',\n",
       "  'Page': 10},\n",
       " {'Full Name': '2-acetamido-3-(3-butoxyphenyl)propanoate (30)',\n",
       "  'Prefix': '2',\n",
       "  'Core': 'acetamido',\n",
       "  'Suffix': 'propanoate ',\n",
       "  'Compound Number': '30',\n",
       "  'Page': 10},\n",
       " {'Full Name': '2-acetamido-3-(3-(pentyloxy)phenyl)propanoate (31)',\n",
       "  'Prefix': '2',\n",
       "  'Core': 'acetamido',\n",
       "  'Suffix': 'propanoate ',\n",
       "  'Compound Number': '31',\n",
       "  'Page': 10},\n",
       " {'Full Name': '2-acetamido-3-(3-(hexyloxy)phenyl)propanoate (32)',\n",
       "  'Prefix': '2',\n",
       "  'Core': 'acetamido',\n",
       "  'Suffix': 'propanoate ',\n",
       "  'Compound Number': '32',\n",
       "  'Page': 10},\n",
       " {'Full Name': '2-amino-3-(3-ethoxyphenyl)propanoic acid hydrochloride (6)',\n",
       "  'Prefix': '2',\n",
       "  'Core': 'amino',\n",
       "  'Suffix': 'propanoic acid hydrochloride ',\n",
       "  'Compound Number': '6',\n",
       "  'Page': 11},\n",
       " {'Full Name': '2-amino-3-(3-propoxyphenyl)propanoic acid hydrochloride (7)',\n",
       "  'Prefix': '2',\n",
       "  'Core': 'amino',\n",
       "  'Suffix': 'propanoic acid hydrochloride ',\n",
       "  'Compound Number': '7',\n",
       "  'Page': 11},\n",
       " {'Full Name': '2-amino-3-(3-butoxyphenyl)propanoic acid hydrochloride (8)',\n",
       "  'Prefix': '2',\n",
       "  'Core': 'amino',\n",
       "  'Suffix': 'propanoic acid hydrochloride ',\n",
       "  'Compound Number': '8',\n",
       "  'Page': 11},\n",
       " {'Full Name': '2-amino-3-(3-(pentylox y)phenyl)propanoic acid hydrochloride (9)',\n",
       "  'Prefix': '2',\n",
       "  'Core': 'amino',\n",
       "  'Suffix': 'propanoic acid hydrochloride ',\n",
       "  'Compound Number': '9',\n",
       "  'Page': 11},\n",
       " {'Full Name': '2-amino-3-(3-(hexyloxy)phenyl)propanoic acid hydrochloride (10)',\n",
       "  'Prefix': '2',\n",
       "  'Core': 'amino',\n",
       "  'Suffix': 'propanoic acid hydrochloride ',\n",
       "  'Compound Number': '10',\n",
       "  'Page': 11},\n",
       " {'Full Name': '2-acetamido-2-(3-propionylbenzyl)malonate (38)',\n",
       "  'Prefix': '2',\n",
       "  'Core': 'acetamido',\n",
       "  'Suffix': 'malonate ',\n",
       "  'Compound Number': '38',\n",
       "  'Page': 13},\n",
       " {'Full Name': '2-acetamido-2-(3-butyrylbenzyl)malonate (39)',\n",
       "  'Prefix': '2',\n",
       "  'Core': 'acetamido',\n",
       "  'Suffix': 'malonate ',\n",
       "  'Compound Number': '39',\n",
       "  'Page': 13},\n",
       " {'Full Name': '2-acetamido-2-(3-pentanoylbenzyl)malonate (40)',\n",
       "  'Prefix': '2',\n",
       "  'Core': 'acetamido',\n",
       "  'Suffix': 'malonate ',\n",
       "  'Compound Number': '40',\n",
       "  'Page': 13},\n",
       " {'Full Name': '2-acetamido-2-(3-hexanoylbenzyl)malonate (41)',\n",
       "  'Prefix': '2',\n",
       "  'Core': 'acetamido',\n",
       "  'Suffix': 'malonate ',\n",
       "  'Compound Number': '41',\n",
       "  'Page': 14},\n",
       " {'Full Name': '2-amino-3-(3-propionylphenyl)propanoic acid hydrochloride (12)',\n",
       "  'Prefix': '2',\n",
       "  'Core': 'amino',\n",
       "  'Suffix': 'propanoic acid hydrochloride ',\n",
       "  'Compound Number': '12',\n",
       "  'Page': 14},\n",
       " {'Full Name': '2-amino-3-(3-butyrylphenyl)propanoic acid hydrochloride (13)',\n",
       "  'Prefix': '2',\n",
       "  'Core': 'amino',\n",
       "  'Suffix': 'propanoic acid hydrochloride ',\n",
       "  'Compound Number': '13',\n",
       "  'Page': 14},\n",
       " {'Full Name': '2-amino-3-(3-pentanoylphenyl)propanoic acid hydrochloride (14)',\n",
       "  'Prefix': '2',\n",
       "  'Core': 'amino',\n",
       "  'Suffix': 'propanoic acid hydrochloride ',\n",
       "  'Compound Number': '14',\n",
       "  'Page': 14},\n",
       " {'Full Name': '2-amino-3-(3-hexanoylphenyl)propanoic acid hydrochloride (15)',\n",
       "  'Prefix': '2',\n",
       "  'Core': 'amino',\n",
       "  'Suffix': 'propanoic acid hydrochloride ',\n",
       "  'Compound Number': '15',\n",
       "  'Page': 15},\n",
       " {'Full Name': '2-amino-3-(benzo[d][1,3]dioxol-5-yl)propanoic acid hydrochloride (1)',\n",
       "  'Prefix': '2',\n",
       "  'Core': 'amino',\n",
       "  'Suffix': 'propanoic acid hydrochloride ',\n",
       "  'Compound Number': '1',\n",
       "  'Page': 64},\n",
       " {'Full Name': '(S)-2-amino-3-(4-(cyclopentylmethoxy)phenyl)propanoic acid hydrochloride \\n(3)',\n",
       "  'Prefix': '(S)-2',\n",
       "  'Core': 'amino',\n",
       "  'Suffix': 'propanoic acid hydrochloride \\n',\n",
       "  'Compound Number': '3',\n",
       "  'Page': 65},\n",
       " {'Full Name': '(S)-2-amino-3-(4-(but-2-yn-1-yloxy)phenyl)propanoic acid hydrochloride (4)',\n",
       "  'Prefix': '(S)-2',\n",
       "  'Core': 'amino',\n",
       "  'Suffix': 'propanoic acid hydrochloride ',\n",
       "  'Compound Number': '4',\n",
       "  'Page': 65},\n",
       " {'Full Name': '(S)-2-amino-3-(4-(2-azidoethoxy)phenyl)propanoic acid hydrochloride (2)',\n",
       "  'Prefix': '(S)-2',\n",
       "  'Core': 'amino',\n",
       "  'Suffix': 'propanoic acid hydrochloride ',\n",
       "  'Compound Number': '2',\n",
       "  'Page': 66},\n",
       " {'Full Name': '2-acetamido-3-(3-ethoxyphenyl)propanoate (28)',\n",
       "  'Prefix': '2',\n",
       "  'Core': 'acetamido',\n",
       "  'Suffix': 'propanoate ',\n",
       "  'Compound Number': '28',\n",
       "  'Page': 66},\n",
       " {'Full Name': '2-acetamido-3-(3-propoxyphenyl)propanoate (29)',\n",
       "  'Prefix': '2',\n",
       "  'Core': 'acetamido',\n",
       "  'Suffix': 'propanoate ',\n",
       "  'Compound Number': '29',\n",
       "  'Page': 67},\n",
       " {'Full Name': '2-acetamido-3-(3-butoxyphenyl)propanoate (30)',\n",
       "  'Prefix': '2',\n",
       "  'Core': 'acetamido',\n",
       "  'Suffix': 'propanoate ',\n",
       "  'Compound Number': '30',\n",
       "  'Page': 67},\n",
       " {'Full Name': '2-acetamido-3-(3-(pentyloxy)phenyl)propanoate (31)',\n",
       "  'Prefix': '2',\n",
       "  'Core': 'acetamido',\n",
       "  'Suffix': 'propanoate ',\n",
       "  'Compound Number': '31',\n",
       "  'Page': 67},\n",
       " {'Full Name': '2-acetamido-3-(3-(hexyloxy)phenyl)propanoate (32)',\n",
       "  'Prefix': '2',\n",
       "  'Core': 'acetamido',\n",
       "  'Suffix': 'propanoate ',\n",
       "  'Compound Number': '32',\n",
       "  'Page': 67},\n",
       " {'Full Name': '2-amino-3-(3-ethoxyphenyl)propanoic acid hydrochloride (6)',\n",
       "  'Prefix': '2',\n",
       "  'Core': 'amino',\n",
       "  'Suffix': 'propanoic acid hydrochloride ',\n",
       "  'Compound Number': '6',\n",
       "  'Page': 68},\n",
       " {'Full Name': '2-amino-3-(3-propoxyphenyl)propanoic acid hydrochloride (7)',\n",
       "  'Prefix': '2',\n",
       "  'Core': 'amino',\n",
       "  'Suffix': 'propanoic acid hydrochloride ',\n",
       "  'Compound Number': '7',\n",
       "  'Page': 68},\n",
       " {'Full Name': '2-amino-3-(3-butoxyphenyl)propanoic acid hydrochloride (8)',\n",
       "  'Prefix': '2',\n",
       "  'Core': 'amino',\n",
       "  'Suffix': 'propanoic acid hydrochloride ',\n",
       "  'Compound Number': '8',\n",
       "  'Page': 68},\n",
       " {'Full Name': '2-amino-3-(3-(pentylox y)phenyl)propanoic acid hydrochloride (9)',\n",
       "  'Prefix': '2',\n",
       "  'Core': 'amino',\n",
       "  'Suffix': 'propanoic acid hydrochloride ',\n",
       "  'Compound Number': '9',\n",
       "  'Page': 68},\n",
       " {'Full Name': '2-amino-3-(3-(hexyloxy)phenyl)propanoic acid hydrochloride (10)',\n",
       "  'Prefix': '2',\n",
       "  'Core': 'amino',\n",
       "  'Suffix': 'propanoic acid hydrochloride ',\n",
       "  'Compound Number': '10',\n",
       "  'Page': 68},\n",
       " {'Full Name': '2-acetamido-2-(3-propionylbenzyl)malonate (38)',\n",
       "  'Prefix': '2',\n",
       "  'Core': 'acetamido',\n",
       "  'Suffix': 'malonate ',\n",
       "  'Compound Number': '38',\n",
       "  'Page': 70},\n",
       " {'Full Name': '2-acetamido-2-(3-butyrylbenzyl)malonate (39)',\n",
       "  'Prefix': '2',\n",
       "  'Core': 'acetamido',\n",
       "  'Suffix': 'malonate ',\n",
       "  'Compound Number': '39',\n",
       "  'Page': 70},\n",
       " {'Full Name': '2-acetamido-2-(3-pentanoylbenzyl)malonate (40)',\n",
       "  'Prefix': '2',\n",
       "  'Core': 'acetamido',\n",
       "  'Suffix': 'malonate ',\n",
       "  'Compound Number': '40',\n",
       "  'Page': 70},\n",
       " {'Full Name': '2-acetamido-2-(3-hexanoylbenzyl)malonate (41)',\n",
       "  'Prefix': '2',\n",
       "  'Core': 'acetamido',\n",
       "  'Suffix': 'malonate ',\n",
       "  'Compound Number': '41',\n",
       "  'Page': 71},\n",
       " {'Full Name': '2-amino-3-(3-propionylphenyl)propanoic acid hydrochloride (12)',\n",
       "  'Prefix': '2',\n",
       "  'Core': 'amino',\n",
       "  'Suffix': 'propanoic acid hydrochloride ',\n",
       "  'Compound Number': '12',\n",
       "  'Page': 71},\n",
       " {'Full Name': '2-amino-3-(3-butyrylphenyl)propanoic acid hydrochloride (13)',\n",
       "  'Prefix': '2',\n",
       "  'Core': 'amino',\n",
       "  'Suffix': 'propanoic acid hydrochloride ',\n",
       "  'Compound Number': '13',\n",
       "  'Page': 71},\n",
       " {'Full Name': '2-amino-3-(3-pentanoylphenyl)propanoic acid hydrochloride (14)',\n",
       "  'Prefix': '2',\n",
       "  'Core': 'amino',\n",
       "  'Suffix': 'propanoic acid hydrochloride ',\n",
       "  'Compound Number': '14',\n",
       "  'Page': 71},\n",
       " {'Full Name': '2-amino-3-(3-hexanoylphenyl)propanoic acid hydrochloride (15)',\n",
       "  'Prefix': '2',\n",
       "  'Core': 'amino',\n",
       "  'Suffix': 'propanoic acid hydrochloride ',\n",
       "  'Compound Number': '15',\n",
       "  'Page': 72}]"
      ]
     },
     "execution_count": 91,
     "metadata": {},
     "output_type": "execute_result"
    }
   ],
   "source": [
    "import re\n",
    "from collections import Counter\n",
    "\n",
    "\n",
    "def extract_compounds(text, page=-1):\n",
    "    pattern = r'(([\\w()-]+)\\s*-\\s*([\\w-]+)-\\d-\\([\\w\\[\\](),\\s-]+\\)([\\w\\s]+)\\((\\d+)\\))'\n",
    "    matches = re.findall(pattern, text)\n",
    "    \n",
    "    # Store the results\n",
    "    extracted_data = []\n",
    "    for match in matches:\n",
    "        compound = {\n",
    "            'Full Name': match[0].strip(),\n",
    "            'Prefix': match[1],\n",
    "            'Core': match[2],\n",
    "            'Suffix': match[3],\n",
    "            'Compound Number': match[4],\n",
    "            'Page': page + 1\n",
    "        }\n",
    "        extracted_data.append(compound)\n",
    "    \n",
    "    return extracted_data\n",
    "\n",
    "compounds = []\n",
    "for page in range(pdfReader.numPages):\n",
    "    pageObj = pdfReader.getPage(page)\n",
    "    text = pageObj.extractText()\n",
    "    compound = extract_compounds(text, page)\n",
    "    compounds.extend(compound)\n",
    "\n",
    "counter = Counter([compound['Compound Number'] for compound in compounds])\n",
    "for k in sorted(counter.keys(), key = lambda x: int(x)):\n",
    "    # print(k, counter[k])\n",
    "    pass\n",
    "\n",
    "compounds"
   ]
  },
  {
   "cell_type": "code",
   "execution_count": 92,
   "metadata": {},
   "outputs": [
    {
     "name": "stdout",
     "output_type": "stream",
     "text": [
      "24\n"
     ]
    },
    {
     "data": {
      "text/plain": [
       "[{'Combined': 'pAzFRS', 'Synthetase': 'pAzFRS', 'Mutation': '', 'Page': 0},\n",
       " {'Combined': 'PylRS', 'Synthetase': 'PylRS', 'Mutation': '', 'Page': 0},\n",
       " {'Combined': 'IFRS2', 'Synthetase': 'IFRS2', 'Mutation': '', 'Page': 0},\n",
       " {'Combined': 'PylRS', 'Synthetase': 'PylRS', 'Mutation': '', 'Page': 0},\n",
       " {'Combined': 'FRS1', 'Synthetase': 'FRS1', 'Mutation': '', 'Page': 0},\n",
       " {'Combined': 'PylRS(N346A/C348A)',\n",
       "  'Synthetase': 'PylRS',\n",
       "  'Mutation': '(N346A/C348A)',\n",
       "  'Page': 0},\n",
       " {'Combined': 'HpRS', 'Synthetase': 'HpRS', 'Mutation': '', 'Page': 0},\n",
       " {'Combined': 'pCNFRS', 'Synthetase': 'pCNFRS', 'Mutation': '', 'Page': 0},\n",
       " {'Combined': 'pCNFRS', 'Synthetase': 'pCNFRS', 'Mutation': '', 'Page': 0},\n",
       " {'Combined': 'IFRS4', 'Synthetase': 'IFRS4', 'Mutation': '', 'Page': 0},\n",
       " {'Combined': 'PylRS', 'Synthetase': 'PylRS', 'Mutation': '', 'Page': 0},\n",
       " {'Combined': 'PylRS', 'Synthetase': 'PylRS', 'Mutation': '', 'Page': 0},\n",
       " {'Combined': 'IFRS1', 'Synthetase': 'IFRS1', 'Mutation': '', 'Page': 0},\n",
       " {'Combined': 'PylRS', 'Synthetase': 'PylRS', 'Mutation': '', 'Page': 0},\n",
       " {'Combined': 'FRS2', 'Synthetase': 'FRS2', 'Mutation': '', 'Page': 0},\n",
       " {'Combined': 'pCNFRS', 'Synthetase': 'pCNFRS', 'Mutation': '', 'Page': 0},\n",
       " {'Combined': 'pCNFRS', 'Synthetase': 'pCNFRS', 'Mutation': '', 'Page': 0},\n",
       " {'Combined': 'pCNFRS', 'Synthetase': 'pCNFRS', 'Mutation': '', 'Page': 0},\n",
       " {'Combined': 'PylRS', 'Synthetase': 'PylRS', 'Mutation': '', 'Page': 0},\n",
       " {'Combined': 'PylRS', 'Synthetase': 'PylRS', 'Mutation': '', 'Page': 0},\n",
       " {'Combined': 'IFRS3', 'Synthetase': 'IFRS3', 'Mutation': '', 'Page': 0},\n",
       " {'Combined': 'PylRS', 'Synthetase': 'PylRS', 'Mutation': '', 'Page': 0},\n",
       " {'Combined': 'PylRS', 'Synthetase': 'PylRS', 'Mutation': '', 'Page': 0}]"
      ]
     },
     "execution_count": 92,
     "metadata": {},
     "output_type": "execute_result"
    }
   ],
   "source": [
    "import re\n",
    "\n",
    "def extract_synthetase(text, page=-1):\n",
    "    pattern = r'(\\w*RS\\w*)(\\([\\w\\/]+\\))?'\n",
    "    matches = re.findall(pattern, text)\n",
    "    \n",
    "    extracted_data = []\n",
    "    for match in matches:\n",
    "        synthetase_type = match[0]\n",
    "        mutation = match[1]\n",
    "        extracted_data.append({\n",
    "            'Combined': match[0] + match[1] if match[1] else match[0],\n",
    "            'Synthetase': synthetase_type,\n",
    "            'Mutation': mutation,\n",
    "            'Page': page + 1\n",
    "        })\n",
    "    \n",
    "    return extracted_data\n",
    "\n",
    "pdf_text = '''\n",
    "PylRS(N346A/C348A)\n",
    "pAzFRS-1\n",
    "PylRS L274C; C313V; M315Y; Y349F; V370R; I378C\n",
    "IFRS2\n",
    "PylRS C313V; Y349F\n",
    "FRS1\n",
    "HpRS\n",
    "pCNFRS E272V\n",
    "pCNFRS R257W\n",
    "IFRS4\n",
    "PylRS C313V; M315L; Y349F; V370R; I378V\n",
    "PylRS Y271A; L274I; C313V; M315Y; Y349F; V370R; I378M\n",
    "IFRS1\n",
    "PylRS Y271M; C313V; M315Y; Y349F; V370R\n",
    "PylRS Y271G; L274I; C313V; M315C; Y349F; V370R\n",
    "FRS2\n",
    "pCNFRS I176L\n",
    "pCNFRS K90Q\n",
    "PylRS C313V;Y349F\n",
    "PylRS N346A;C348A\n",
    "IFRS3\n",
    "pCNFRS\n",
    "PylRS L274M; C313V; M315C; Y349F; V370K; I378V\n",
    "'''\n",
    "\n",
    "# synthetase = []\n",
    "# for page in range(pdfReader.numPages):\n",
    "#     pageObj = pdfReader.getPage(page)\n",
    "#     text = pageObj.extractText()\n",
    "#     out = extract_synthetase(text, page)\n",
    "#     synthetase.extend(out)\n",
    "\n",
    "# synthetase\n",
    "\n",
    "pdf_text = '\\n'.join(set(pdf_text.split('\\n')))\n",
    "print(len(pdf_text.split('\\n')))\n",
    "extract_synthetase(pdf_text)"
   ]
  },
  {
   "cell_type": "code",
   "execution_count": 15,
   "metadata": {},
   "outputs": [
    {
     "data": {
      "text/plain": [
       "{'Page': 0,\n",
       " 'Prefix': '(S)-2',\n",
       " 'Core': 'amino',\n",
       " 'Suffix': 'propanoic acid hydrochloride ',\n",
       " 'Compound Number': '2'}"
      ]
     },
     "execution_count": 15,
     "metadata": {},
     "output_type": "execute_result"
    }
   ],
   "source": [
    "# Sample text from a PDF (replace this with actual PDF text)\n",
    "pdf_text = \"\"\"\n",
    "Here are some compounds:\n",
    "(S)-2-amino-3-(4-(but-2-yn-1-yloxy)phenyl)propanoic acid hydrochloride (2)\n",
    "(S)-2-amino-3-(4-(2-azidoethoxy)phenyl)propanoic acid hydrochloride (2)\n",
    "4.2.3 (S)-2-amino-3-(4-(2-azidoethoxy)phenyl)propanoic acid hydrochloride (2)\n",
    "4.3.4 Methyl 2-acetamido-3-(3-(pentyloxy)phenyl)propanoate (31)\n",
    "4.5.5 2-amino-3-(3-(hexyloxy)phenyl)propanoic acid hydrochloride (10)\n",
    "4.8.1 2-amino-3-(3-propionylphenyl)propanoic acid hydrochloride (12)\n",
    "\"\"\"\n",
    "\n",
    "# Extract compounds\n",
    "result = extract_compounds(pdf_text)\n",
    "result[0]"
   ]
  },
  {
   "cell_type": "code",
   "execution_count": 41,
   "metadata": {},
   "outputs": [
    {
     "name": "stdout",
     "output_type": "stream",
     "text": [
      "NC(CCC(=O)[O-])Cc1cc([N+](=O)[O-])cc([N+](=O)[O-])c1\n",
      "NCCCC(=O)OCc1cc([N+](=O)[O-])cc([N+](=O)[O-])c1\n"
     ]
    },
    {
     "data": {
      "image/png": "[encoded data removed]",
      "text/plain": [
       "<rdkit.Chem.rdchem.Mol at 0x16a74f4c0>"
      ]
     },
     "execution_count": 41,
     "metadata": {},
     "output_type": "execute_result"
    }
   ],
   "source": [
    "from rdkit import Chem\n",
    "\n",
    "a = Chem.MolFromSmiles('NC(CCC([O-])=O)Cc1cc(cc(c1)[N+]([O-])=O)[N+]([O-])=O')\n",
    "b = Chem.MolFromSmiles('[N+](=O)([O-])C=1C=C(COC(CCCN)=O)C=C(C1)[N+](=O)[O-]')\n",
    "print(Chem.MolToSmiles(a))\n",
    "print(Chem.MolToSmiles(b))\n",
    "a"
   ]
  },
  {
   "cell_type": "code",
   "execution_count": 42,
   "metadata": {},
   "outputs": [
    {
     "data": {
      "image/png": "[encoded data removed]",
      "text/plain": [
       "<rdkit.Chem.rdchem.Mol at 0x16a74e6c0>"
      ]
     },
     "execution_count": 42,
     "metadata": {},
     "output_type": "execute_result"
    }
   ],
   "source": [
    "b"
   ]
  },
  {
   "cell_type": "code",
   "execution_count": 17,
   "metadata": {},
   "outputs": [
    {
     "ename": "AttributeError",
     "evalue": "module 'pybel' has no attribute 'readstring'",
     "output_type": "error",
     "traceback": [
      "\u001b[0;31m---------------------------------------------------------------------------\u001b[0m",
      "\u001b[0;31mAttributeError\u001b[0m                            Traceback (most recent call last)",
      "\u001b[1;32m/Users/Jay_Y/Desktop/ucb-research/CGEM-DOI-Citations/data_extraction.ipynb Cell 5\u001b[0m line \u001b[0;36m8\n\u001b[1;32m      <a href='vscode-notebook-cell:/Users/Jay_Y/Desktop/ucb-research/CGEM-DOI-Citations/data_extraction.ipynb#W4sZmlsZQ%3D%3D?line=4'>5</a>\u001b[0m     \u001b[39mreturn\u001b[39;00m mol\u001b[39m.\u001b[39mwrite(\u001b[39m\"\u001b[39m\u001b[39msmi\u001b[39m\u001b[39m\"\u001b[39m)\u001b[39m.\u001b[39mstrip()\n\u001b[1;32m      <a href='vscode-notebook-cell:/Users/Jay_Y/Desktop/ucb-research/CGEM-DOI-Citations/data_extraction.ipynb#W4sZmlsZQ%3D%3D?line=6'>7</a>\u001b[0m iupac_name \u001b[39m=\u001b[39m \u001b[39m\"\u001b[39m\u001b[39m4-aminobutyric acid\u001b[39m\u001b[39m\"\u001b[39m\n\u001b[0;32m----> <a href='vscode-notebook-cell:/Users/Jay_Y/Desktop/ucb-research/CGEM-DOI-Citations/data_extraction.ipynb#W4sZmlsZQ%3D%3D?line=7'>8</a>\u001b[0m smiles_string \u001b[39m=\u001b[39m iupac_to_smiles(iupac_name)\n\u001b[1;32m      <a href='vscode-notebook-cell:/Users/Jay_Y/Desktop/ucb-research/CGEM-DOI-Citations/data_extraction.ipynb#W4sZmlsZQ%3D%3D?line=8'>9</a>\u001b[0m \u001b[39mprint\u001b[39m(\u001b[39mf\u001b[39m\u001b[39m\"\u001b[39m\u001b[39mThe SMILES string for \u001b[39m\u001b[39m{\u001b[39;00miupac_name\u001b[39m}\u001b[39;00m\u001b[39m is \u001b[39m\u001b[39m{\u001b[39;00msmiles_string\u001b[39m}\u001b[39;00m\u001b[39m\"\u001b[39m)\n\u001b[1;32m     <a href='vscode-notebook-cell:/Users/Jay_Y/Desktop/ucb-research/CGEM-DOI-Citations/data_extraction.ipynb#W4sZmlsZQ%3D%3D?line=10'>11</a>\u001b[0m \u001b[39mfrom\u001b[39;00m \u001b[39mpy2opsin\u001b[39;00m \u001b[39mimport\u001b[39;00m py2opsin\n",
      "\u001b[1;32m/Users/Jay_Y/Desktop/ucb-research/CGEM-DOI-Citations/data_extraction.ipynb Cell 5\u001b[0m line \u001b[0;36m4\n\u001b[1;32m      <a href='vscode-notebook-cell:/Users/Jay_Y/Desktop/ucb-research/CGEM-DOI-Citations/data_extraction.ipynb#W4sZmlsZQ%3D%3D?line=2'>3</a>\u001b[0m \u001b[39mdef\u001b[39;00m \u001b[39miupac_to_smiles\u001b[39m(iupac_name):\n\u001b[0;32m----> <a href='vscode-notebook-cell:/Users/Jay_Y/Desktop/ucb-research/CGEM-DOI-Citations/data_extraction.ipynb#W4sZmlsZQ%3D%3D?line=3'>4</a>\u001b[0m     mol \u001b[39m=\u001b[39m pybel\u001b[39m.\u001b[39;49mreadstring(\u001b[39m\"\u001b[39m\u001b[39mname\u001b[39m\u001b[39m\"\u001b[39m, iupac_name)\n\u001b[1;32m      <a href='vscode-notebook-cell:/Users/Jay_Y/Desktop/ucb-research/CGEM-DOI-Citations/data_extraction.ipynb#W4sZmlsZQ%3D%3D?line=4'>5</a>\u001b[0m     \u001b[39mreturn\u001b[39;00m mol\u001b[39m.\u001b[39mwrite(\u001b[39m\"\u001b[39m\u001b[39msmi\u001b[39m\u001b[39m\"\u001b[39m)\u001b[39m.\u001b[39mstrip()\n",
      "\u001b[0;31mAttributeError\u001b[0m: module 'pybel' has no attribute 'readstring'"
     ]
    }
   ],
   "source": [
    "import pybel\n",
    "\n",
    "def iupac_to_smiles(iupac_name):\n",
    "    mol = pybel.readstring(\"name\", iupac_name)\n",
    "    return mol.write(\"smi\").strip()\n",
    "\n",
    "iupac_name = \"4-aminobutyric acid\"\n",
    "smiles_string = iupac_to_smiles(iupac_name)\n",
    "print(f\"The SMILES string for {iupac_name} is {smiles_string}\")\n"
   ]
  },
  {
   "cell_type": "code",
   "execution_count": 2,
   "metadata": {},
   "outputs": [
    {
     "name": "stdout",
     "output_type": "stream",
     "text": [
      "The SMILES string for 4-aminobutyric acid is \n"
     ]
    },
    {
     "name": "stderr",
     "output_type": "stream",
     "text": [
      "/opt/homebrew/lib/python3.11/site-packages/py2opsin/py2opsin.py:131: RuntimeWarning: OPSIN raised the following error(s) while parsing:\n",
      " > Could not find atom that: <stereoChemistry type=\"RorS\" value=\"R\" stereoGroup=\"Rac\">R/S</stereoChemistry> appeared to be referring to\n",
      "\n",
      "  warnings.warn(\n"
     ]
    }
   ],
   "source": [
    "from py2opsin import py2opsin\n",
    "\n",
    "smiles_string = py2opsin(\n",
    "    chemical_name=\"4-aminobutyric acid\",\n",
    "    output_format=\"SMILES\"\n",
    ")\n",
    "print(f\"The SMILES string for 4-aminobutyric acid is {smiles_string}\")"
   ]
  },
  {
   "cell_type": "code",
   "execution_count": 22,
   "metadata": {},
   "outputs": [
    {
     "name": "stdout",
     "output_type": "stream",
     "text": [
      "NC[C@H](CC(=O)O)O\n"
     ]
    },
    {
     "data": {
      "text/plain": [
       "'NC[C@H](CC(=O)O)O'"
      ]
     },
     "execution_count": 22,
     "metadata": {},
     "output_type": "execute_result"
    }
   ],
   "source": [
    "import requests\n",
    "from functools import cache\n",
    "\n",
    "from urllib.request import urlopen\n",
    "from urllib.parse import quote\n",
    "import timeit \n",
    "\n",
    "@cache\n",
    "def iupac_to_smiles1(iupac_name):\n",
    "    if type(iupac_name) != str:\n",
    "        return None\n",
    "    iupac_name = iupac_name.strip()\n",
    "    iupac_name = iupac_name.replace(' ', '-')\n",
    "    try:\n",
    "        url = f'http://cactus.nci.nih.gov/chemical/structure/{iupac_name}/smiles'\n",
    "        ans = urlopen(url).read().decode('utf8')\n",
    "        return ans\n",
    "    except:\n",
    "        return None\n",
    "\n",
    "@cache\n",
    "def iupac_to_smiles2(iupac_name):\n",
    "    '''\n",
    "    This one is significantly better\n",
    "    '''\n",
    "    if type(iupac_name) != str:\n",
    "        return None\n",
    "    iupac_name = iupac_name.strip()\n",
    "    iupac_name = iupac_name.replace(' ', '-')\n",
    "    url = f\"https://opsin.ch.cam.ac.uk/opsin/{iupac_name}.smi\"\n",
    "    response = requests.get(url)\n",
    "    print(response.text.strip())\n",
    "    if response.status_code == 200:\n",
    "        return response.text.strip()\n",
    "    return None\n",
    "\n",
    "iupac_name = \"(S)-4-amino-3-hydroxy butyric acid\"\n",
    "smiles = iupac_to_smiles2(iupac_name)\n",
    "smiles\n"
   ]
  },
  {
   "cell_type": "code",
   "execution_count": 43,
   "metadata": {},
   "outputs": [
    {
     "name": "stdout",
     "output_type": "stream",
     "text": [
      "3,5-dinitrobenzyl 3-aminopropanoate NCC(Cc1cc(cc(c1)[N+]([O-])=O)[N+]([O-])=O)C([O-])=O [N+](=O)([O-])C=1C=C(COC(CCN)=O)C=C(C1)[N+](=O)[O-]\n",
      "3,5-dinitrobenzyl-amino-4-butanoate NC(CCC([O-])=O)Cc1cc(cc(c1)[N+]([O-])=O)[N+]([O-])=O [N+](=O)([O-])C=1C=C(COC(CCCN)=O)C=C(C1)[N+](=O)[O-]\n",
      "3,5-dinitrobenzyl 4-(methylamino)butanoate CNCCC(Cc1cc(cc(c1)[N+]([O-])=O)[N+]([O-])=O)C([O-])=O [N+](=O)([O-])C=1C=C(COC(CCCNC)=O)C=C(C1)[N+](=O)[O-]\n",
      "3,5-dinitrobenzyl 5-aminopentanoate NCCCC(Cc1cc(cc(c1)[N+]([O-])=O)[N+]([O-])=O)C([O-])=O [N+](=O)([O-])C=1C=C(COC(CCCCN)=O)C=C(C1)[N+](=O)[O-]\n",
      "3,5-dinitrobenzyl 6-aminohexanoate NCCCCC(Cc1cc(cc(c1)[N+]([O-])=O)[N+]([O-])=O)C([O-])=O [N+](=O)([O-])C=1C=C(COC(CCCCCN)=O)C=C(C1)[N+](=O)[O-]\n",
      "3,5-dinitrobenzyl 3-aminopropanoate NCC(Cc1cc(cc(c1)[N+]([O-])=O)[N+]([O-])=O)C([O-])=O [N+](=O)([O-])C=1C=C(COC(CCN)=O)C=C(C1)[N+](=O)[O-]\n",
      "3,5-dinitrobenzyl-amino-4-butanoate NC(CCC([O-])=O)Cc1cc(cc(c1)[N+]([O-])=O)[N+]([O-])=O [N+](=O)([O-])C=1C=C(COC(CCCN)=O)C=C(C1)[N+](=O)[O-]\n",
      "3,5-dinitrobenzyl 4-(methylamino)butanoate CNCCC(Cc1cc(cc(c1)[N+]([O-])=O)[N+]([O-])=O)C([O-])=O [N+](=O)([O-])C=1C=C(COC(CCCNC)=O)C=C(C1)[N+](=O)[O-]\n",
      "3,5-dinitrobenzyl 5-aminopentanoate NCCCC(Cc1cc(cc(c1)[N+]([O-])=O)[N+]([O-])=O)C([O-])=O [N+](=O)([O-])C=1C=C(COC(CCCCN)=O)C=C(C1)[N+](=O)[O-]\n",
      "3,5-dinitrobenzyl 6-aminohexanoate NCCCCC(Cc1cc(cc(c1)[N+]([O-])=O)[N+]([O-])=O)C([O-])=O [N+](=O)([O-])C=1C=C(COC(CCCCCN)=O)C=C(C1)[N+](=O)[O-]\n"
     ]
    }
   ],
   "source": [
    "import pandas as pd\n",
    "\n",
    "data = pd.read_csv(r'../SURP-database-reformatted - Flexizymes ready for database.csv', skiprows=1)\n",
    "\n",
    "SMILES = []\n",
    "for iupac in data['Monomer Names (required)']:\n",
    "    method1, method2 = iupac_to_smiles1(iupac), iupac_to_smiles2(iupac)\n",
    "    if method1 or method2: \n",
    "        SMILES.append({\n",
    "            'IUPAC': iupac,\n",
    "            'SMILES1': method1,\n",
    "            'SMILES2': method2\n",
    "        })\n",
    "        if method1 and method2 and Chem.MolToSmiles(Chem.MolFromSmiles(method1)) != Chem.MolToSmiles(Chem.MolFromSmiles(method2)):\n",
    "            print(iupac, method1, method2)"
   ]
  },
  {
   "cell_type": "code",
   "execution_count": 44,
   "metadata": {},
   "outputs": [],
   "source": [
    "# put into new csv\n",
    "SMILES_df = pd.DataFrame(SMILES)\n",
    "SMILES_df.to_csv('IUPAC_TO_SMILES.csv')"
   ]
  },
  {
   "cell_type": "code",
   "execution_count": 23,
   "metadata": {},
   "outputs": [
    {
     "name": "stdout",
     "output_type": "stream",
     "text": [
      "['https://static-content.springer.com/esm/art%3A10.1038%2Fs41557-023-01224-y/MediaObjects/41557_2023_1224_MOESM1_ESM.pdf', 'https://static-content.springer.com/esm/art%3A10.1038%2Fs41557-023-01224-y/MediaObjects/41557_2023_1224_MOESM3_ESM.xlsx']\n"
     ]
    }
   ],
   "source": [
    "import requests\n",
    "from bs4 import BeautifulSoup\n",
    "\n",
    "url = 'https://www.nature.com/articles/s41557-023-01224-y#Sec26'\n",
    "\n",
    "response = requests.get(url)\n",
    "soup = BeautifulSoup(response.text, 'html.parser')\n",
    "\n",
    "supplementary_links = []\n",
    "\n",
    "for link in soup.find_all('a'):\n",
    "    link_text = link.string if link.string else ''\n",
    "    if 'supplement' in link_text.lower():\n",
    "        href = link.get('href')\n",
    "        supplementary_links.append(href)\n",
    "\n",
    "print(supplementary_links)\n"
   ]
  },
  {
   "cell_type": "code",
   "execution_count": 26,
   "metadata": {},
   "outputs": [
    {
     "name": "stdout",
     "output_type": "stream",
     "text": [
      "The IUPAC name for Mal-Bz-DNB is None.\n"
     ]
    }
   ],
   "source": [
    "import pubchempy as pcp\n",
    "\n",
    "def get_iupac_name(short_name):\n",
    "    compounds = pcp.get_compounds(short_name, 'name')\n",
    "    if compounds:\n",
    "        return compounds[0].iupac_name\n",
    "    else:\n",
    "        return None\n",
    "\n",
    "# Example usage\n",
    "short_name = 'acetone'\n",
    "iupac_name = get_iupac_name(short_name)\n",
    "print(f\"The IUPAC name for {short_name} is {iupac_name}.\")\n"
   ]
  },
  {
   "cell_type": "code",
   "execution_count": null,
   "metadata": {},
   "outputs": [],
   "source": []
  }
 ],
 "metadata": {
  "kernelspec": {
   "display_name": "Python 3",
   "language": "python",
   "name": "python3"
  },
  "language_info": {
   "codemirror_mode": {
    "name": "ipython",
    "version": 3
   },
   "file_extension": ".py",
   "mimetype": "text/x-python",
   "name": "python",
   "nbconvert_exporter": "python",
   "pygments_lexer": "ipython3",
   "version": "3.11.4"
  },
  "orig_nbformat": 4
 },
 "nbformat": 4,
 "nbformat_minor": 2
}
