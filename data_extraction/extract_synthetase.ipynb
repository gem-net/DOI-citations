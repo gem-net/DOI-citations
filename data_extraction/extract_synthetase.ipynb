{
 "cells": [
  {
   "cell_type": "code",
   "execution_count": 1,
   "metadata": {},
   "outputs": [
    {
     "data": {
      "text/plain": [
       "117"
      ]
     },
     "execution_count": 1,
     "metadata": {},
     "output_type": "execute_result"
    }
   ],
   "source": [
    "import PyPDF2\n",
    "\n",
    "pdf_path = r'../Example paper 1.pdf'\n",
    "\n",
    "pdfFileObj = open(pdf_path, 'rb')\n",
    "pdfReader = PyPDF2.PdfFileReader(pdfFileObj)\n",
    "pdfReader.numPages"
   ]
  },
  {
   "cell_type": "code",
   "execution_count": 6,
   "metadata": {},
   "outputs": [
    {
     "data": {
      "text/plain": [
       "[{'Combined': 'PylRS', 'Synthetase': 'PylRS', 'Mutation': '', 'Page': 1},\n",
       " {'Combined': 'PylRS', 'Synthetase': 'PylRS', 'Mutation': '', 'Page': 1},\n",
       " {'Combined': 'PylRS', 'Synthetase': 'PylRS', 'Mutation': '', 'Page': 1},\n",
       " {'Combined': 'ofPylRS', 'Synthetase': 'ofPylRS', 'Mutation': '', 'Page': 1},\n",
       " {'Combined': 'PylRS', 'Synthetase': 'PylRS', 'Mutation': '', 'Page': 1},\n",
       " {'Combined': 'PylRS(N346A/C348A)',\n",
       "  'Synthetase': 'PylRS',\n",
       "  'Mutation': '(N346A/C348A)',\n",
       "  'Page': 1},\n",
       " {'Combined': 'PylRS(N346A/C348A)',\n",
       "  'Synthetase': 'PylRS',\n",
       "  'Mutation': '(N346A/C348A)',\n",
       "  'Page': 1},\n",
       " {'Combined': 'PylRS(N346A/C348A)',\n",
       "  'Synthetase': 'PylRS',\n",
       "  'Mutation': '(N346A/C348A)',\n",
       "  'Page': 1},\n",
       " {'Combined': 'PylRS', 'Synthetase': 'PylRS', 'Mutation': '', 'Page': 1},\n",
       " {'Combined': 'PylRS', 'Synthetase': 'PylRS', 'Mutation': '', 'Page': 1},\n",
       " {'Combined': 'PylRS(N346A/C348A)',\n",
       "  'Synthetase': 'PylRS',\n",
       "  'Mutation': '(N346A/C348A)',\n",
       "  'Page': 1},\n",
       " {'Combined': 'PylRS(N346A/C348A)',\n",
       "  'Synthetase': 'PylRS',\n",
       "  'Mutation': '(N346A/C348A)',\n",
       "  'Page': 1},\n",
       " {'Combined': 'PylRS(N346A/C348A)',\n",
       "  'Synthetase': 'PylRS',\n",
       "  'Mutation': '(N346A/C348A)',\n",
       "  'Page': 1},\n",
       " {'Combined': 'PylRSN346A',\n",
       "  'Synthetase': 'PylRSN346A',\n",
       "  'Mutation': '',\n",
       "  'Page': 1},\n",
       " {'Combined': 'PylRSN346A',\n",
       "  'Synthetase': 'PylRSN346A',\n",
       "  'Mutation': '',\n",
       "  'Page': 1},\n",
       " {'Combined': 'PylRS(N346A/C348A)',\n",
       "  'Synthetase': 'PylRS',\n",
       "  'Mutation': '(N346A/C348A)',\n",
       "  'Page': 1},\n",
       " {'Combined': 'PylRS(N346A/C348A)',\n",
       "  'Synthetase': 'PylRS',\n",
       "  'Mutation': '(N346A/C348A)',\n",
       "  'Page': 1},\n",
       " {'Combined': 'PylRS', 'Synthetase': 'PylRS', 'Mutation': '', 'Page': 2},\n",
       " {'Combined': 'PylRS(N346A/C348A)',\n",
       "  'Synthetase': 'PylRS',\n",
       "  'Mutation': '(N346A/C348A)',\n",
       "  'Page': 2},\n",
       " {'Combined': 'PylRS(N346A/C348A)',\n",
       "  'Synthetase': 'PylRS',\n",
       "  'Mutation': '(N346A/C348A)',\n",
       "  'Page': 2},\n",
       " {'Combined': 'thePylRS(N346A/C48A)',\n",
       "  'Synthetase': 'thePylRS',\n",
       "  'Mutation': '(N346A/C48A)',\n",
       "  'Page': 2},\n",
       " {'Combined': 'PylRSN346A',\n",
       "  'Synthetase': 'PylRSN346A',\n",
       "  'Mutation': '',\n",
       "  'Page': 2},\n",
       " {'Combined': 'PylRS', 'Synthetase': 'PylRS', 'Mutation': '', 'Page': 3},\n",
       " {'Combined': 'PylRS(N346A/C348A)',\n",
       "  'Synthetase': 'PylRS',\n",
       "  'Mutation': '(N346A/C348A)',\n",
       "  'Page': 3},\n",
       " {'Combined': 'PylRS(N346A/C348A)',\n",
       "  'Synthetase': 'PylRS',\n",
       "  'Mutation': '(N346A/C348A)',\n",
       "  'Page': 3},\n",
       " {'Combined': 'PylRS(N346A/C348A)',\n",
       "  'Synthetase': 'PylRS',\n",
       "  'Mutation': '(N346A/C348A)',\n",
       "  'Page': 3},\n",
       " {'Combined': 'pylRS', 'Synthetase': 'pylRS', 'Mutation': '', 'Page': 6},\n",
       " {'Combined': 'PylRSN346A',\n",
       "  'Synthetase': 'PylRSN346A',\n",
       "  'Mutation': '',\n",
       "  'Page': 6},\n",
       " {'Combined': 'pylRS', 'Synthetase': 'pylRS', 'Mutation': '', 'Page': 63},\n",
       " {'Combined': 'PylRSN346A',\n",
       "  'Synthetase': 'PylRSN346A',\n",
       "  'Mutation': '',\n",
       "  'Page': 63}]"
      ]
     },
     "execution_count": 6,
     "metadata": {},
     "output_type": "execute_result"
    }
   ],
   "source": [
    "import re\n",
    "\n",
    "def extract_synthetase(text, page=-1):\n",
    "    pattern = r'(\\w*RS\\w*)\\s?(\\([\\w\\/]+\\))?'\n",
    "    matches = re.findall(pattern, text)\n",
    "    \n",
    "    extracted_data = []\n",
    "    for match in matches:\n",
    "        synthetase_type = match[0]\n",
    "        mutation = match[1]\n",
    "        extracted_data.append({\n",
    "            'Combined': match[0] + match[1] if match[1] else match[0],\n",
    "            'Synthetase': synthetase_type,\n",
    "            'Mutation': mutation,\n",
    "            'Page': page + 1\n",
    "        })\n",
    "    \n",
    "    return extracted_data\n",
    "\n",
    "\n",
    "\n",
    "synthetase = []\n",
    "for page in range(pdfReader.numPages):\n",
    "    pageObj = pdfReader.getPage(page)\n",
    "    text = pageObj.extractText()\n",
    "    out = extract_synthetase(text, page)\n",
    "    synthetase.extend(out)\n",
    "\n",
    "synthetase\n"
   ]
  },
  {
   "cell_type": "code",
   "execution_count": 7,
   "metadata": {},
   "outputs": [
    {
     "name": "stdout",
     "output_type": "stream",
     "text": [
      "24\n"
     ]
    },
    {
     "data": {
      "text/plain": [
       "[{'Combined': 'PylRS', 'Synthetase': 'PylRS', 'Mutation': '', 'Page': 0},\n",
       " {'Combined': 'pCNFRS', 'Synthetase': 'pCNFRS', 'Mutation': '', 'Page': 0},\n",
       " {'Combined': 'PylRS', 'Synthetase': 'PylRS', 'Mutation': '', 'Page': 0},\n",
       " {'Combined': 'PylRS', 'Synthetase': 'PylRS', 'Mutation': '', 'Page': 0},\n",
       " {'Combined': 'FRS2', 'Synthetase': 'FRS2', 'Mutation': '', 'Page': 0},\n",
       " {'Combined': 'FRS1', 'Synthetase': 'FRS1', 'Mutation': '', 'Page': 0},\n",
       " {'Combined': 'HpRS', 'Synthetase': 'HpRS', 'Mutation': '', 'Page': 0},\n",
       " {'Combined': 'PylRS', 'Synthetase': 'PylRS', 'Mutation': '', 'Page': 0},\n",
       " {'Combined': 'pCNFRS', 'Synthetase': 'pCNFRS', 'Mutation': '', 'Page': 0},\n",
       " {'Combined': 'PylRS', 'Synthetase': 'PylRS', 'Mutation': '', 'Page': 0},\n",
       " {'Combined': 'pCNFRS', 'Synthetase': 'pCNFRS', 'Mutation': '', 'Page': 0},\n",
       " {'Combined': 'IFRS4', 'Synthetase': 'IFRS4', 'Mutation': '', 'Page': 0},\n",
       " {'Combined': 'PylRS', 'Synthetase': 'PylRS', 'Mutation': '', 'Page': 0},\n",
       " {'Combined': 'PylRS(N346A/C348A)',\n",
       "  'Synthetase': 'PylRS',\n",
       "  'Mutation': '(N346A/C348A)',\n",
       "  'Page': 0},\n",
       " {'Combined': 'pCNFRS', 'Synthetase': 'pCNFRS', 'Mutation': '', 'Page': 0},\n",
       " {'Combined': 'PylRS', 'Synthetase': 'PylRS', 'Mutation': '', 'Page': 0},\n",
       " {'Combined': 'IFRS3', 'Synthetase': 'IFRS3', 'Mutation': '', 'Page': 0},\n",
       " {'Combined': 'PylRS', 'Synthetase': 'PylRS', 'Mutation': '', 'Page': 0},\n",
       " {'Combined': 'IFRS2', 'Synthetase': 'IFRS2', 'Mutation': '', 'Page': 0},\n",
       " {'Combined': 'pCNFRS', 'Synthetase': 'pCNFRS', 'Mutation': '', 'Page': 0},\n",
       " {'Combined': 'PylRS', 'Synthetase': 'PylRS', 'Mutation': '', 'Page': 0},\n",
       " {'Combined': 'IFRS1', 'Synthetase': 'IFRS1', 'Mutation': '', 'Page': 0},\n",
       " {'Combined': 'pAzFRS', 'Synthetase': 'pAzFRS', 'Mutation': '', 'Page': 0}]"
      ]
     },
     "execution_count": 7,
     "metadata": {},
     "output_type": "execute_result"
    }
   ],
   "source": [
    "test_cases = '''\n",
    "PylRS(N346A/C348A)\n",
    "pAzFRS-1\n",
    "PylRS L274C; C313V; M315Y; Y349F; V370R; I378C\n",
    "IFRS2\n",
    "PylRS C313V; Y349F\n",
    "FRS1\n",
    "HpRS\n",
    "pCNFRS E272V\n",
    "pCNFRS R257W\n",
    "IFRS4\n",
    "PylRS C313V; M315L; Y349F; V370R; I378V\n",
    "PylRS Y271A; L274I; C313V; M315Y; Y349F; V370R; I378M\n",
    "IFRS1\n",
    "PylRS Y271M; C313V; M315Y; Y349F; V370R\n",
    "PylRS Y271G; L274I; C313V; M315C; Y349F; V370R\n",
    "FRS2\n",
    "pCNFRS I176L\n",
    "pCNFRS K90Q\n",
    "PylRS C313V;Y349F\n",
    "PylRS N346A;C348A\n",
    "IFRS3\n",
    "pCNFRS\n",
    "PylRS L274M; C313V; M315C; Y349F; V370K; I378V\n",
    "'''\n",
    "\n",
    "\n",
    "test_cases = '\\n'.join(set(test_cases.split('\\n')))\n",
    "print(len(test_cases.split('\\n')))\n",
    "extract_synthetase(test_cases)"
   ]
  },
  {
   "cell_type": "code",
   "execution_count": null,
   "metadata": {},
   "outputs": [],
   "source": []
  }
 ],
 "metadata": {
  "kernelspec": {
   "display_name": "Python 3",
   "language": "python",
   "name": "python3"
  },
  "language_info": {
   "codemirror_mode": {
    "name": "ipython",
    "version": 3
   },
   "file_extension": ".py",
   "mimetype": "text/x-python",
   "name": "python",
   "nbconvert_exporter": "python",
   "pygments_lexer": "ipython3",
   "version": "3.11.4"
  },
  "orig_nbformat": 4
 },
 "nbformat": 4,
 "nbformat_minor": 2
}
