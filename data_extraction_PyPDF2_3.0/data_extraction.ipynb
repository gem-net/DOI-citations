{
 "cells": [
  {
   "cell_type": "code",
   "execution_count": 11,
   "metadata": {},
   "outputs": [
    {
     "data": {
      "text/plain": [
       "117"
      ]
     },
     "execution_count": 11,
     "metadata": {},
     "output_type": "execute_result"
    }
   ],
   "source": [
    "# read pdf Example paper 1.pdf\n",
    "\n",
    "import PyPDF2\n",
    "\n",
    "pdf_path = 'Example paper 1.pdf'\n",
    "\n",
    "pdfFileObj = open('Example paper 1.pdf', 'rb')\n",
    "pdfReader = PyPDF2.PdfReader(pdfFileObj)\n",
    "len(pdfReader.pages)"
   ]
  },
  {
   "cell_type": "code",
   "execution_count": 12,
   "metadata": {},
   "outputs": [
    {
     "data": {
      "text/plain": [
       "{'Page': 7,\n",
       " 'Prefix': '2',\n",
       " 'Core': 'amino',\n",
       " 'Suffix': 'propanoic acid hydrochloride ',\n",
       " 'Compound Number': '1'}"
      ]
     },
     "execution_count": 12,
     "metadata": {},
     "output_type": "execute_result"
    }
   ],
   "source": [
    "import re\n",
    "\n",
    "def extract_compounds(text, page = -1):\n",
    "    pattern = r'([\\w()-]+)\\s*-\\s*([\\w-]+)-\\d-\\([\\w\\[\\](),\\s-]+\\)([\\w\\s]+)\\((\\d+)\\)'\n",
    "    matches = re.findall(pattern, text)\n",
    "    extracted_data = []\n",
    "    for match in matches:\n",
    "        compound = {\n",
    "            'Page' : page + 1,\n",
    "            'Prefix': match[0],\n",
    "            'Core': match[1],\n",
    "            'Suffix': match[2],\n",
    "            'Compound Number': match[3]\n",
    "        }\n",
    "        extracted_data.append(compound)\n",
    "    \n",
    "    return extracted_data\n",
    "\n",
    "compounds = []\n",
    "for page in range(len(pdfReader.pages)):\n",
    "    pageObj = pdfReader.pages[page]\n",
    "    text = pageObj.extract_text()\n",
    "    compound = extract_compounds(text, page)\n",
    "    compounds.extend(compound)\n",
    "\n",
    "compounds[0]"
   ]
  },
  {
   "cell_type": "code",
   "execution_count": 13,
   "metadata": {},
   "outputs": [
    {
     "data": {
      "text/plain": [
       "{'Page': 0,\n",
       " 'Prefix': '(S)-2',\n",
       " 'Core': 'amino',\n",
       " 'Suffix': 'propanoic acid hydrochloride ',\n",
       " 'Compound Number': '2'}"
      ]
     },
     "execution_count": 13,
     "metadata": {},
     "output_type": "execute_result"
    }
   ],
   "source": [
    "# Sample text from a PDF (replace this with actual PDF text)\n",
    "pdf_text = \"\"\"\n",
    "Here are some compounds:\n",
    "(S)-2-amino-3-(4-(but-2-yn-1-yloxy)phenyl)propanoic acid hydrochloride (2)\n",
    "(S)-2-amino-3-(4-(2-azidoethoxy)phenyl)propanoic acid hydrochloride (2)\n",
    "4.2.3 (S)-2-amino-3-(4-(2-azidoethoxy)phenyl)propanoic acid hydrochloride (2)\n",
    "4.3.4 Methyl 2-acetamido-3-(3-(pentyloxy)phenyl)propanoate (31)\n",
    "4.5.5 2-amino-3-(3-(hexyloxy)phenyl)propanoic acid hydrochloride (10)\n",
    "4.8.1 2-amino-3-(3-propionylphenyl)propanoic acid hydrochloride (12)\n",
    "\"\"\"\n",
    "\n",
    "# Extract compounds\n",
    "result = extract_compounds(pdf_text)\n",
    "result[0]"
   ]
  },
  {
   "cell_type": "code",
   "execution_count": 14,
   "metadata": {},
   "outputs": [
    {
     "name": "stdout",
     "output_type": "stream",
     "text": [
      "CC(=O)Oc1cccc(C(C)C(=O)O)c1\n"
     ]
    },
    {
     "data": {
      "image/png": "[encoded data removed]",
      "text/plain": [
       "<rdkit.Chem.rdchem.Mol at 0x7fed30500430>"
      ]
     },
     "execution_count": 14,
     "metadata": {},
     "output_type": "execute_result"
    }
   ],
   "source": [
    "from rdkit import Chem\n",
    "\n",
    "mol = Chem.MolFromSmiles('CC(=O)OC1=CC=CC(=C1)C(C)C(=O)O')\n",
    "print(Chem.MolToSmiles(mol))\n",
    "mol"
   ]
  },
  {
   "cell_type": "code",
   "execution_count": 18,
   "metadata": {},
   "outputs": [
    {
     "ename": "ModuleNotFoundError",
     "evalue": "No module named 'openbabel'",
     "output_type": "error",
     "traceback": [
      "\u001b[0;31m---------------------------------------------------------------------------\u001b[0m",
      "\u001b[0;31mModuleNotFoundError\u001b[0m                       Traceback (most recent call last)",
      "\u001b[0;32m/var/folders/xf/v_rb0m2d59jd356j3hh12td00000gn/T/ipykernel_51653/2125867619.py\u001b[0m in \u001b[0;36m<module>\u001b[0;34m\u001b[0m\n\u001b[0;32m----> 1\u001b[0;31m \u001b[0;32mfrom\u001b[0m \u001b[0mopenbabel\u001b[0m \u001b[0;32mimport\u001b[0m \u001b[0mpybel\u001b[0m\u001b[0;34m\u001b[0m\u001b[0;34m\u001b[0m\u001b[0m\n\u001b[0m\u001b[1;32m      2\u001b[0m \u001b[0;34m\u001b[0m\u001b[0m\n\u001b[1;32m      3\u001b[0m \u001b[0;32mdef\u001b[0m \u001b[0miupac_to_smiles\u001b[0m\u001b[0;34m(\u001b[0m\u001b[0miupac_name\u001b[0m\u001b[0;34m)\u001b[0m\u001b[0;34m:\u001b[0m\u001b[0;34m\u001b[0m\u001b[0;34m\u001b[0m\u001b[0m\n\u001b[1;32m      4\u001b[0m     \u001b[0mmol\u001b[0m \u001b[0;34m=\u001b[0m \u001b[0mpybel\u001b[0m\u001b[0;34m.\u001b[0m\u001b[0mreadstring\u001b[0m\u001b[0;34m(\u001b[0m\u001b[0;34m\"name\"\u001b[0m\u001b[0;34m,\u001b[0m \u001b[0miupac_name\u001b[0m\u001b[0;34m)\u001b[0m\u001b[0;34m\u001b[0m\u001b[0;34m\u001b[0m\u001b[0m\n\u001b[1;32m      5\u001b[0m     \u001b[0;32mreturn\u001b[0m \u001b[0mmol\u001b[0m\u001b[0;34m.\u001b[0m\u001b[0mwrite\u001b[0m\u001b[0;34m(\u001b[0m\u001b[0;34m\"smi\"\u001b[0m\u001b[0;34m)\u001b[0m\u001b[0;34m.\u001b[0m\u001b[0mstrip\u001b[0m\u001b[0;34m(\u001b[0m\u001b[0;34m)\u001b[0m\u001b[0;34m\u001b[0m\u001b[0;34m\u001b[0m\u001b[0m\n",
      "\u001b[0;31mModuleNotFoundError\u001b[0m: No module named 'openbabel'"
     ]
    }
   ],
   "source": [
    "from openbabel import pybel\n",
    "\n",
    "def iupac_to_smiles(iupac_name):\n",
    "    mol = pybel.readstring(\"name\", iupac_name)\n",
    "    return mol.write(\"smi\").strip()\n",
    "\n",
    "iupac_name = \"4-aminobutyric acid\"\n",
    "smiles_string = iupac_to_smiles(iupac_name)\n",
    "print(f\"The SMILES string for {iupac_name} is {smiles_string}\")\n",
    "\n",
    "from py2opsin import py2opsin\n",
    "\n",
    "smiles_string = py2opsin(\n",
    "    chemical_name=\"4-aminobutyric acid\",\n",
    "    output_format=\"SMILES\"\n",
    ")\n",
    "print(f\"The SMILES string for 4-aminobutyric acid is {smiles_string}\")"
   ]
  },
  {
   "cell_type": "code",
   "execution_count": 17,
   "metadata": {},
   "outputs": [
    {
     "data": {
      "text/plain": [
       "'CCN(CC)C(=O)[C@H]1CN(C)[C@@H]2Cc3c[nH]c4cccc(C2=C1)c34'"
      ]
     },
     "execution_count": 17,
     "metadata": {},
     "output_type": "execute_result"
    }
   ],
   "source": [
    "import requests\n",
    "from functools import cache\n",
    "\n",
    "from urllib.request import urlopen\n",
    "from urllib.parse import quote\n",
    "import timeit \n",
    "\n",
    "@cache\n",
    "def iupac_to_smiles1(iupac_name):\n",
    "    iupac_name = iupac_name.strip()\n",
    "    if not iupac_name:\n",
    "        return None\n",
    "    try:\n",
    "        url = f'http://cactus.nci.nih.gov/chemical/structure/{iupac_name}/smiles'\n",
    "        ans = urlopen(url).read().decode('utf8')\n",
    "        return ans\n",
    "    except:\n",
    "        return iupac_to_smiles1(iupac_name[1:])\n",
    "\n",
    "@cache\n",
    "def iupac_to_smiles2(iupac_name):\n",
    "    iupac_name = iupac_name.strip()\n",
    "    url = f\"https://opsin.ch.cam.ac.uk/opsin/{iupac_name}.smi\"\n",
    "    response = requests.get(url)\n",
    "    if response.status_code == 200:\n",
    "        return response.text.strip()\n",
    "    elif iupac_name:\n",
    "        return iupac_to_smiles2(iupac_name[1:])\n",
    "    return None\n",
    "\n",
    "iupac_name = \"(R/S)-4-amino-3-hydroxy butyric acid\"\n",
    "smiles = iupac_to_smiles1(iupac_name)\n",
    "# print(timeit.timeit(f'iupac_to_smiles1(\"{iupac_name}\")', globals=globals(), number=10))\n",
    "# print(timeit.timeit(f'iupac_to_smiles2(\"{iupac_name}\")', globals=globals(), number=10))\n",
    "smiles\n"
   ]
  },
  {
   "cell_type": "code",
   "execution_count": null,
   "metadata": {},
   "outputs": [],
   "source": [
    "import pandas as pd\n",
    "\n",
    "data = pd.read_csv('SURP-database-reformatted - Flexizymes ready for database.csv', skiprows=1)\n",
    "\n",
    "SMILES = []\n",
    "for iupac in data['Monomer Names (required)']:\n",
    "    method1, method2 = iupac_to_smiles1(iupac), iupac_to_smiles2(iupac)\n",
    "    SMILES.append({\n",
    "        'IUPAC': iupac,\n",
    "        'SMILES1': method1,\n",
    "        'SMILES2': method2\n",
    "    })"
   ]
  },
  {
   "cell_type": "code",
   "execution_count": 30,
   "metadata": {},
   "outputs": [],
   "source": [
    "# put into new csv\n",
    "SMILES_df = pd.DataFrame(SMILES)\n",
    "SMILES_df.to_csv('IUPAC_TO_SMILES.csv')"
   ]
  },
  {
   "cell_type": "code",
   "execution_count": null,
   "metadata": {},
   "outputs": [],
   "source": []
  }
 ],
 "metadata": {
  "kernelspec": {
   "display_name": "Python 3 (ipykernel)",
   "language": "python",
   "name": "python3"
  },
  "language_info": {
   "codemirror_mode": {
    "name": "ipython",
    "version": 3
   },
   "file_extension": ".py",
   "mimetype": "text/x-python",
   "name": "python",
   "nbconvert_exporter": "python",
   "pygments_lexer": "ipython3",
   "version": "3.9.13"
  }
 },
 "nbformat": 4,
 "nbformat_minor": 4
}
